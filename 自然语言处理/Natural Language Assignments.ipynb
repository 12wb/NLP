{
 "cells": [
  {
   "cell_type": "markdown",
   "metadata": {},
   "source": [
    "# 1.Python乘法运算可应用于链表。当你输入['Monty', 'Python'] * 20 或者 3 * sent1会发生什么？"
   ]
  },
  {
   "cell_type": "code",
   "execution_count": 11,
   "metadata": {},
   "outputs": [
    {
     "data": {
      "text/plain": [
       "['Monty',\n",
       " 'Python',\n",
       " 'Monty',\n",
       " 'Python',\n",
       " 'Monty',\n",
       " 'Python',\n",
       " 'Monty',\n",
       " 'Python',\n",
       " 'Monty',\n",
       " 'Python',\n",
       " 'Monty',\n",
       " 'Python',\n",
       " 'Monty',\n",
       " 'Python',\n",
       " 'Monty',\n",
       " 'Python',\n",
       " 'Monty',\n",
       " 'Python',\n",
       " 'Monty',\n",
       " 'Python',\n",
       " 'Monty',\n",
       " 'Python',\n",
       " 'Monty',\n",
       " 'Python',\n",
       " 'Monty',\n",
       " 'Python',\n",
       " 'Monty',\n",
       " 'Python',\n",
       " 'Monty',\n",
       " 'Python',\n",
       " 'Monty',\n",
       " 'Python',\n",
       " 'Monty',\n",
       " 'Python',\n",
       " 'Monty',\n",
       " 'Python',\n",
       " 'Monty',\n",
       " 'Python',\n",
       " 'Monty',\n",
       " 'Python']"
      ]
     },
     "execution_count": 11,
     "metadata": {},
     "output_type": "execute_result"
    }
   ],
   "source": [
    "['Monty', 'Python'] * 20"
   ]
  },
  {
   "cell_type": "code",
   "execution_count": 13,
   "metadata": {},
   "outputs": [
    {
     "name": "stdout",
     "output_type": "stream",
     "text": [
      "会发生列表复制20次到原来列表\n"
     ]
    }
   ],
   "source": [
    "print(\"会发生列表复制20次到原来列表\")"
   ]
  },
  {
   "cell_type": "code",
   "execution_count": 12,
   "metadata": {},
   "outputs": [
    {
     "data": {
      "text/plain": [
       "['Call',\n",
       " 'me',\n",
       " 'Ishmael',\n",
       " '.',\n",
       " 'Call',\n",
       " 'me',\n",
       " 'Ishmael',\n",
       " '.',\n",
       " 'Call',\n",
       " 'me',\n",
       " 'Ishmael',\n",
       " '.']"
      ]
     },
     "execution_count": 12,
     "metadata": {},
     "output_type": "execute_result"
    }
   ],
   "source": [
    "3*sent1"
   ]
  },
  {
   "cell_type": "code",
   "execution_count": 14,
   "metadata": {},
   "outputs": [
    {
     "name": "stdout",
     "output_type": "stream",
     "text": [
      "同理\n"
     ]
    }
   ],
   "source": [
    "print(\"同理\")"
   ]
  },
  {
   "cell_type": "markdown",
   "metadata": {},
   "source": [
    "# 2.26个字母可以组成26的10次方或者26,10个10字母长的字符串。也就是141167095653376L (结尾处的L只是表示这是Python长数字格式), 100个字母长度的字符串可能有多少个?"
   ]
  },
  {
   "cell_type": "code",
   "execution_count": 18,
   "metadata": {},
   "outputs": [
    {
     "data": {
      "text/plain": [
       "3142930641582938830174357788501626427282669988762475256374173175398995908420104023465432599069702289330964075081611719197835869803511992549376"
      ]
     },
     "execution_count": 18,
     "metadata": {},
     "output_type": "execute_result"
    }
   ],
   "source": [
    "word = 26**100\n",
    "word"
   ]
  },
  {
   "cell_type": "markdown",
   "metadata": {},
   "source": [
    "# 3.复习1.1节关于语言计算的内容。在text2中有多少个词？有多少个不同的词2."
   ]
  },
  {
   "cell_type": "code",
   "execution_count": 12,
   "metadata": {
    "collapsed": true
   },
   "outputs": [],
   "source": [
    "import nltk\n",
    "from nltk.book import *"
   ]
  },
  {
   "cell_type": "code",
   "execution_count": 13,
   "metadata": {},
   "outputs": [
    {
     "data": {
      "text/plain": [
       "141576"
      ]
     },
     "execution_count": 13,
     "metadata": {},
     "output_type": "execute_result"
    }
   ],
   "source": [
    "len(text2)"
   ]
  },
  {
   "cell_type": "code",
   "execution_count": 14,
   "metadata": {},
   "outputs": [
    {
     "data": {
      "text/plain": [
       "6833"
      ]
     },
     "execution_count": 14,
     "metadata": {},
     "output_type": "execute_result"
    }
   ],
   "source": [
    "len(sorted(set(text2)))"
   ]
  },
  {
   "cell_type": "code",
   "execution_count": 15,
   "metadata": {},
   "outputs": [
    {
     "data": {
      "text/plain": [
       "4"
      ]
     },
     "execution_count": 15,
     "metadata": {},
     "output_type": "execute_result"
    }
   ],
   "source": [
    "4"
   ]
  },
  {
   "cell_type": "markdown",
   "metadata": {},
   "source": [
    "# 4.查找text5中的搭配"
   ]
  },
  {
   "cell_type": "code",
   "execution_count": 21,
   "metadata": {},
   "outputs": [
    {
     "name": "stdout",
     "output_type": "stream",
     "text": [
      "wanna chat; PART JOIN; MODE #14-19teens; JOIN PART; PART PART;\n",
      "cute.-ass MP3; MP3 player; JOIN JOIN; times .. .; ACTION watches; guys\n",
      "wanna; song lasts; last night; ACTION sits; -...)...- S.M.R.; Lime\n",
      "Player; Player 12%; dont know; lez gurls; long time\n"
     ]
    }
   ],
   "source": [
    "text5.collocations()"
   ]
  },
  {
   "cell_type": "markdown",
   "metadata": {},
   "source": [
    "# 5.思考下面的Python表达式: len(set(text4))。 说明这个表达式的用途。 描述在执行此计算中涉及的两个步骤。\n"
   ]
  },
  {
   "cell_type": "code",
   "execution_count": 22,
   "metadata": {},
   "outputs": [
    {
     "name": "stdout",
     "output_type": "stream",
     "text": [
      "这个表达式主要是用来求text4词汇表有多少单词 \n",
      "第一步：先定义a = set(text4)\n",
      "第二步：直接求长度len(a)\n"
     ]
    }
   ],
   "source": [
    "print(\"这个表达式主要是用来求text4词汇表有多少单词 \")\n",
    "print(\"第一步：先定义a = set(text4),将text4中的所有单词加入set中去重\")\n",
    "print(\"第二步：len(a),求该set的大小\")"
   ]
  },
  {
   "cell_type": "markdown",
   "metadata": {},
   "source": [
    "# 6.我们已经学习啦如何用词链表表示一个句子，其中每个词是一个字符序列。sent1[2][2]代表什么意思？为什么？并尝试其他的索引值。"
   ]
  },
  {
   "cell_type": "code",
   "execution_count": 30,
   "metadata": {},
   "outputs": [
    {
     "name": "stdout",
     "output_type": "stream",
     "text": [
      "sent1表示第三个单词的第三个字母\n"
     ]
    }
   ],
   "source": [
    "print(\"sent1表示第三个单词的第三个字母\")"
   ]
  },
  {
   "cell_type": "markdown",
   "metadata": {},
   "source": [
    "# 7.变量sent3中保存的是text3的第一句话。在sent3中the的索引值是1,因为sent3[1]的值是“the”。sent3中“the”的其他两种出现的索引值是多少？"
   ]
  },
  {
   "cell_type": "code",
   "execution_count": 35,
   "metadata": {},
   "outputs": [
    {
     "name": "stdout",
     "output_type": "stream",
     "text": [
      "1\n",
      "5\n",
      "8\n"
     ]
    }
   ],
   "source": [
    "import nltk\n",
    "from nltk.book import *\n",
    "for i in range(len(sent3)):\n",
    "    if sent3[i] == 'the':\n",
    "        print(i)"
   ]
  },
  {
   "cell_type": "markdown",
   "metadata": {},
   "source": [
    "# 8.复习1.4节讨论的条件语句。在聊天语料库（text5）中查找所有以字母b开头的词。按字母顺序显示出来。"
   ]
  },
  {
   "cell_type": "code",
   "execution_count": 37,
   "metadata": {},
   "outputs": [
    {
     "data": {
      "text/plain": [
       "['b',\n",
       " 'b-day',\n",
       " 'b/c',\n",
       " 'b4',\n",
       " 'babay',\n",
       " 'babble',\n",
       " 'babblein',\n",
       " 'babe',\n",
       " 'babes',\n",
       " 'babi',\n",
       " 'babies',\n",
       " 'babiess',\n",
       " 'baby',\n",
       " 'babycakeses',\n",
       " 'bachelorette',\n",
       " 'back',\n",
       " 'backatchya',\n",
       " 'backfrontsidewaysandallaroundtheworld',\n",
       " 'backroom',\n",
       " 'backup',\n",
       " 'bacl',\n",
       " 'bad',\n",
       " 'bag',\n",
       " 'bagel',\n",
       " 'bagels',\n",
       " 'bahahahaa',\n",
       " 'bak',\n",
       " 'baked',\n",
       " 'balad',\n",
       " 'balance',\n",
       " 'balck',\n",
       " 'ball',\n",
       " 'ballin',\n",
       " 'balls',\n",
       " 'ban',\n",
       " 'band',\n",
       " 'bandito',\n",
       " 'bandsaw',\n",
       " 'banjoes',\n",
       " 'banned',\n",
       " 'baord',\n",
       " 'bar',\n",
       " 'barbie',\n",
       " 'bare',\n",
       " 'barely',\n",
       " 'bares',\n",
       " 'barfights',\n",
       " 'barks',\n",
       " 'barn',\n",
       " 'barrel',\n",
       " 'base',\n",
       " 'bases',\n",
       " 'basically',\n",
       " 'basket',\n",
       " 'battery',\n",
       " 'bay',\n",
       " 'bbbbbyyyyyyyeeeeeeeee',\n",
       " 'bbiam',\n",
       " 'bbl',\n",
       " 'bbs',\n",
       " 'bc',\n",
       " 'be',\n",
       " 'beach',\n",
       " 'beachhhh',\n",
       " 'beam',\n",
       " 'beams',\n",
       " 'beanbag',\n",
       " 'beans',\n",
       " 'bear',\n",
       " 'bears',\n",
       " 'beat',\n",
       " 'beaten',\n",
       " 'beatles',\n",
       " 'beats',\n",
       " 'beattles',\n",
       " 'beautiful',\n",
       " 'because',\n",
       " 'beckley',\n",
       " 'become',\n",
       " 'bed',\n",
       " 'bedford',\n",
       " 'bedroom',\n",
       " 'beeeeehave',\n",
       " 'beeehave',\n",
       " 'been',\n",
       " 'beer',\n",
       " 'before',\n",
       " 'beg',\n",
       " 'begin',\n",
       " 'behave',\n",
       " 'behind',\n",
       " 'bein',\n",
       " 'being',\n",
       " 'beleive',\n",
       " 'believe',\n",
       " 'belive',\n",
       " 'bell',\n",
       " 'belly',\n",
       " 'belong',\n",
       " 'belongings',\n",
       " 'ben',\n",
       " 'bend',\n",
       " 'benz',\n",
       " 'bes',\n",
       " 'beside',\n",
       " 'besides',\n",
       " 'best',\n",
       " 'bet',\n",
       " 'betrayal',\n",
       " 'betta',\n",
       " 'better',\n",
       " 'between',\n",
       " 'beuty',\n",
       " 'bf',\n",
       " 'bi',\n",
       " 'biatch',\n",
       " 'bible',\n",
       " 'biebsa',\n",
       " 'bied',\n",
       " 'big',\n",
       " 'bigest',\n",
       " 'biggest',\n",
       " 'biiiatch',\n",
       " 'bike',\n",
       " 'bikes',\n",
       " 'bikini',\n",
       " 'bio',\n",
       " 'bird',\n",
       " 'birfday',\n",
       " 'birthday',\n",
       " 'bisexual',\n",
       " 'bishes',\n",
       " 'bit',\n",
       " 'bitch',\n",
       " 'bitches',\n",
       " 'bitdh',\n",
       " 'bite',\n",
       " 'bites',\n",
       " 'biyatch',\n",
       " 'biz',\n",
       " 'bj',\n",
       " 'black',\n",
       " 'blade',\n",
       " 'blah',\n",
       " 'blank',\n",
       " 'blankie',\n",
       " 'blazed',\n",
       " 'bleach',\n",
       " 'blech',\n",
       " 'bless',\n",
       " 'blessings',\n",
       " 'blew',\n",
       " 'blind',\n",
       " 'blinks',\n",
       " 'bliss',\n",
       " 'blocking',\n",
       " 'bloe',\n",
       " 'blood',\n",
       " 'blooded',\n",
       " 'bloody',\n",
       " 'blow',\n",
       " 'blowing',\n",
       " 'blowjob',\n",
       " 'blowup',\n",
       " 'blue',\n",
       " 'blueberry',\n",
       " 'bluer',\n",
       " 'blues',\n",
       " 'blunt',\n",
       " 'board',\n",
       " 'bob',\n",
       " 'bodies',\n",
       " 'body',\n",
       " 'boed',\n",
       " 'boght',\n",
       " 'boi',\n",
       " 'boing',\n",
       " 'boinked',\n",
       " 'bois',\n",
       " 'bomb',\n",
       " 'bone',\n",
       " 'boned',\n",
       " 'bones',\n",
       " 'bong',\n",
       " 'boning',\n",
       " 'bonus',\n",
       " 'boo',\n",
       " 'booboo',\n",
       " 'boobs',\n",
       " 'book',\n",
       " 'boom',\n",
       " 'boooooooooooglyyyyyy',\n",
       " 'boost',\n",
       " 'boot',\n",
       " 'bootay',\n",
       " 'booted',\n",
       " 'boots',\n",
       " 'booty',\n",
       " 'border',\n",
       " 'borderline',\n",
       " 'bored',\n",
       " 'boredom',\n",
       " 'boring',\n",
       " 'born',\n",
       " 'born-again',\n",
       " 'bosom',\n",
       " 'boss',\n",
       " 'bossy',\n",
       " 'bot',\n",
       " 'both',\n",
       " 'bother',\n",
       " 'bothering',\n",
       " 'bottle',\n",
       " 'bought',\n",
       " 'bounced',\n",
       " 'bouncer',\n",
       " 'bouncers',\n",
       " 'bound',\n",
       " 'bout',\n",
       " 'bouts',\n",
       " 'bow',\n",
       " 'bowl',\n",
       " 'box',\n",
       " 'boy',\n",
       " 'boyfriend',\n",
       " 'boys',\n",
       " 'bra',\n",
       " 'brad',\n",
       " 'brady',\n",
       " 'brain',\n",
       " 'brakes',\n",
       " 'brass',\n",
       " 'brat',\n",
       " 'brb',\n",
       " 'brbbb',\n",
       " 'bread',\n",
       " 'break',\n",
       " 'breaks',\n",
       " 'breath',\n",
       " 'breathe',\n",
       " 'bred',\n",
       " 'breeding',\n",
       " 'bright',\n",
       " 'brightened',\n",
       " 'bring',\n",
       " 'brings',\n",
       " 'bro',\n",
       " 'broke',\n",
       " 'brooklyn',\n",
       " 'brother',\n",
       " 'brothers',\n",
       " 'brought',\n",
       " 'brown',\n",
       " 'brrrrrrr',\n",
       " 'bruises',\n",
       " 'brunswick',\n",
       " 'brwn',\n",
       " 'btw',\n",
       " 'bucks',\n",
       " 'buddyyyyyy',\n",
       " 'buff',\n",
       " 'buffalo',\n",
       " 'bug',\n",
       " 'bugs',\n",
       " 'buh',\n",
       " 'build',\n",
       " 'builds',\n",
       " 'built',\n",
       " 'bull',\n",
       " 'bulls',\n",
       " 'bum',\n",
       " 'bumber',\n",
       " 'bummer',\n",
       " 'bumped',\n",
       " 'bumper',\n",
       " 'bunch',\n",
       " 'bunny',\n",
       " 'burger',\n",
       " 'burito',\n",
       " 'burned',\n",
       " 'burns',\n",
       " 'burp',\n",
       " 'burpin',\n",
       " 'burps',\n",
       " 'burried',\n",
       " 'burryed',\n",
       " 'bus',\n",
       " 'buses',\n",
       " 'bust',\n",
       " 'busted',\n",
       " 'busy',\n",
       " 'but',\n",
       " 'butt',\n",
       " 'butter',\n",
       " 'butterscotch',\n",
       " 'button',\n",
       " 'buttons',\n",
       " 'buy',\n",
       " 'buying',\n",
       " 'bwahahahahahahahahahaha',\n",
       " 'by',\n",
       " 'byb',\n",
       " 'bye',\n",
       " 'byeee',\n",
       " 'byeeee',\n",
       " 'byeeeeeeee',\n",
       " 'byeeeeeeeeeeeee',\n",
       " 'byes']"
      ]
     },
     "execution_count": 37,
     "metadata": {},
     "output_type": "execute_result"
    }
   ],
   "source": [
    "sorted([w for w in set(text5) if w.startswith('b')])"
   ]
  },
  {
   "cell_type": "markdown",
   "metadata": {},
   "source": [
    "# 9.使用text9.index()查找词sunset的索引值。你需要将这个词作为一个参数插入到圆括号之间。在尝试和出错的过程中，在完整的句子中找到包含这个词的切片。"
   ]
  },
  {
   "cell_type": "code",
   "execution_count": 38,
   "metadata": {},
   "outputs": [
    {
     "data": {
      "text/plain": [
       "629"
      ]
     },
     "execution_count": 38,
     "metadata": {},
     "output_type": "execute_result"
    }
   ],
   "source": [
    "text9.index('sunset')"
   ]
  },
  {
   "cell_type": "markdown",
   "metadata": {},
   "source": [
    "# 10.使用链表加法、set和sorted操作，计算句子sent1...sent8的词汇表。"
   ]
  },
  {
   "cell_type": "code",
   "execution_count": 39,
   "metadata": {},
   "outputs": [
    {
     "data": {
      "text/plain": [
       "['!',\n",
       " ',',\n",
       " '-',\n",
       " '.',\n",
       " '1',\n",
       " '25',\n",
       " '29',\n",
       " '61',\n",
       " ':',\n",
       " 'ARTHUR',\n",
       " 'Call',\n",
       " 'Citizens',\n",
       " 'Dashwood',\n",
       " 'Fellow',\n",
       " 'God',\n",
       " 'House',\n",
       " 'I',\n",
       " 'In',\n",
       " 'Ishmael',\n",
       " 'JOIN',\n",
       " 'KING',\n",
       " 'MALE',\n",
       " 'Nov.',\n",
       " 'PMing',\n",
       " 'Pierre',\n",
       " 'Representatives',\n",
       " 'SCENE',\n",
       " 'SEXY',\n",
       " 'Senate',\n",
       " 'Sussex',\n",
       " 'The',\n",
       " 'Vinken',\n",
       " 'Whoa',\n",
       " '[',\n",
       " ']',\n",
       " 'a',\n",
       " 'and',\n",
       " 'as',\n",
       " 'attrac',\n",
       " 'been',\n",
       " 'beginning',\n",
       " 'board',\n",
       " 'clop',\n",
       " 'created',\n",
       " 'director',\n",
       " 'discreet',\n",
       " 'earth',\n",
       " 'encounters',\n",
       " 'family',\n",
       " 'for',\n",
       " 'had',\n",
       " 'have',\n",
       " 'heaven',\n",
       " 'in',\n",
       " 'join',\n",
       " 'lady',\n",
       " 'lol',\n",
       " 'long',\n",
       " 'me',\n",
       " 'nonexecutive',\n",
       " 'of',\n",
       " 'old',\n",
       " 'older',\n",
       " 'people',\n",
       " 'problem',\n",
       " 'seeks',\n",
       " 'settled',\n",
       " 'single',\n",
       " 'the',\n",
       " 'there',\n",
       " 'to',\n",
       " 'will',\n",
       " 'wind',\n",
       " 'with',\n",
       " 'years']"
      ]
     },
     "execution_count": 39,
     "metadata": {},
     "output_type": "execute_result"
    }
   ],
   "source": [
    "sorted(set(sent1 + sent2 + sent3 + sent4 + sent5 + sent6 + sent7 + sent8))"
   ]
  },
  {
   "cell_type": "markdown",
   "metadata": {
    "collapsed": true
   },
   "source": [
    "# TWO"
   ]
  },
  {
   "cell_type": "markdown",
   "metadata": {},
   "source": [
    "## 1.定义一个字符串s='coloress',编写python语句将其变为’colorurless'只使用切片和连接操作"
   ]
  },
  {
   "cell_type": "code",
   "execution_count": 11,
   "metadata": {},
   "outputs": [
    {
     "data": {
      "text/plain": [
       "'colourless'"
      ]
     },
     "execution_count": 11,
     "metadata": {},
     "output_type": "execute_result"
    }
   ],
   "source": [
    "s='colorless'\n",
    "s[:4]+'u'+s[-5:]"
   ]
  },
  {
   "cell_type": "markdown",
   "metadata": {},
   "source": [
    "# 2.我们可以使用切片符号删除词汇形态上的结尾。例如: 'dogs'[:-1]删除了dogs的最后一个字符，留下dog。使用切片符号删除下面这些词的词缀(我们插入了一个连字符指示词缀的边界，请在你的字符串中省略掉连字符):dish-es, run-ning. nation-ality, un-do, pre-heat."
   ]
  },
  {
   "cell_type": "code",
   "execution_count": 14,
   "metadata": {
    "collapsed": true
   },
   "outputs": [],
   "source": [
    "a = 'dish-es'"
   ]
  },
  {
   "cell_type": "code",
   "execution_count": 15,
   "metadata": {},
   "outputs": [
    {
     "data": {
      "text/plain": [
       "'dish-es'"
      ]
     },
     "execution_count": 15,
     "metadata": {},
     "output_type": "execute_result"
    }
   ],
   "source": [
    "a"
   ]
  },
  {
   "cell_type": "code",
   "execution_count": 17,
   "metadata": {
    "collapsed": true
   },
   "outputs": [],
   "source": [
    "b = 'running'"
   ]
  },
  {
   "cell_type": "code",
   "execution_count": 18,
   "metadata": {},
   "outputs": [
    {
     "data": {
      "text/plain": [
       "'running'"
      ]
     },
     "execution_count": 18,
     "metadata": {},
     "output_type": "execute_result"
    }
   ],
   "source": [
    "b"
   ]
  },
  {
   "cell_type": "code",
   "execution_count": 19,
   "metadata": {},
   "outputs": [
    {
     "data": {
      "text/plain": [
       "'un'"
      ]
     },
     "execution_count": 19,
     "metadata": {},
     "output_type": "execute_result"
    }
   ],
   "source": [
    "'undo'[:2]"
   ]
  },
  {
   "cell_type": "code",
   "execution_count": 20,
   "metadata": {},
   "outputs": [
    {
     "data": {
      "text/plain": [
       "'pre'"
      ]
     },
     "execution_count": 20,
     "metadata": {},
     "output_type": "execute_result"
    }
   ],
   "source": [
    "'pre-heat'[:3]"
   ]
  },
  {
   "cell_type": "markdown",
   "metadata": {},
   "source": [
    "# 3.我们看到如何产生一个IndexError,通过索引超出一个字符串的末尾。构造一个向左走的太远走到字符串的前面的索引,这有可能吗?"
   ]
  },
  {
   "cell_type": "code",
   "execution_count": 22,
   "metadata": {
    "collapsed": true
   },
   "outputs": [],
   "source": [
    "A = 'moring'"
   ]
  },
  {
   "cell_type": "code",
   "execution_count": 23,
   "metadata": {},
   "outputs": [
    {
     "data": {
      "text/plain": [
       "'n'"
      ]
     },
     "execution_count": 23,
     "metadata": {},
     "output_type": "execute_result"
    }
   ],
   "source": [
    "A[-2]"
   ]
  },
  {
   "cell_type": "code",
   "execution_count": 24,
   "metadata": {},
   "outputs": [
    {
     "ename": "IndexError",
     "evalue": "string index out of range",
     "output_type": "error",
     "traceback": [
      "\u001b[1;31m---------------------------------------------------------------------------\u001b[0m",
      "\u001b[1;31mIndexError\u001b[0m                                Traceback (most recent call last)",
      "\u001b[1;32m<ipython-input-24-fd4df7f023c3>\u001b[0m in \u001b[0;36m<module>\u001b[1;34m()\u001b[0m\n\u001b[1;32m----> 1\u001b[1;33m \u001b[0mA\u001b[0m\u001b[1;33m[\u001b[0m\u001b[1;33m-\u001b[0m\u001b[1;36m8\u001b[0m\u001b[1;33m]\u001b[0m\u001b[1;33m\u001b[0m\u001b[0m\n\u001b[0m",
      "\u001b[1;31mIndexError\u001b[0m: string index out of range"
     ]
    }
   ],
   "source": [
    "A[-8]"
   ]
  },
  {
   "cell_type": "code",
   "execution_count": 25,
   "metadata": {},
   "outputs": [
    {
     "name": "stdout",
     "output_type": "stream",
     "text": [
      "可能，如上代码所示\n"
     ]
    }
   ],
   "source": [
    "print(\"可能，如上代码所示\")"
   ]
  },
  {
   "cell_type": "markdown",
   "metadata": {},
   "source": [
    "# 4.我们可以为分片指定一个“步长”。下 面的表达式间隔一一个字符返回一个片内字符:monty[6:11:2]。也可以反向进行: monty[10:5:-2]。 自己尝试一-下，然后实验不同的步长。\n"
   ]
  },
  {
   "cell_type": "code",
   "execution_count": 26,
   "metadata": {},
   "outputs": [
    {
     "data": {
      "text/plain": [
       "'Wrd'"
      ]
     },
     "execution_count": 26,
     "metadata": {},
     "output_type": "execute_result"
    }
   ],
   "source": [
    "monty='Hello World'\n",
    "monty[6:11:2]"
   ]
  },
  {
   "cell_type": "code",
   "execution_count": 27,
   "metadata": {},
   "outputs": [
    {
     "data": {
      "text/plain": [
       "'drW'"
      ]
     },
     "execution_count": 27,
     "metadata": {},
     "output_type": "execute_result"
    }
   ],
   "source": [
    "monty[10:5:-2]"
   ]
  },
  {
   "cell_type": "markdown",
   "metadata": {},
   "source": [
    "# 5.如果你让解释器处理monty:-1]会发生什么?解释为什么这是一个合理的结果。\n"
   ]
  },
  {
   "cell_type": "code",
   "execution_count": 28,
   "metadata": {},
   "outputs": [
    {
     "data": {
      "text/plain": [
       "'dlroW olleH'"
      ]
     },
     "execution_count": 28,
     "metadata": {},
     "output_type": "execute_result"
    }
   ],
   "source": [
    "monty[::-1]"
   ]
  },
  {
   "cell_type": "code",
   "execution_count": 29,
   "metadata": {},
   "outputs": [
    {
     "name": "stdout",
     "output_type": "stream",
     "text": [
      "它进行了逆序输出\n"
     ]
    }
   ],
   "source": [
    "print(\"它进行了逆序输出\")"
   ]
  },
  {
   "cell_type": "markdown",
   "metadata": {},
   "source": [
    "# 6.将下面的循环改写为链表推导:\n"
   ]
  },
  {
   "cell_type": "code",
   "execution_count": 6,
   "metadata": {},
   "outputs": [
    {
     "data": {
      "text/plain": [
       "[('The', 3),\n",
       " ('dog', 3),\n",
       " ('gave', 4),\n",
       " ('John', 4),\n",
       " ('the', 3),\n",
       " ('newspaper', 9)]"
      ]
     },
     "execution_count": 6,
     "metadata": {},
     "output_type": "execute_result"
    }
   ],
   "source": [
    "sent=['The','dog','gave','John','the','newspaper']\n",
    "result=[]\n",
    "for word in sent:\n",
    "    word_len=(word,len(word))\n",
    "    result.append(word_len)\n",
    "result"
   ]
  },
  {
   "cell_type": "markdown",
   "metadata": {},
   "source": [
    "# 7.定义一个字符串raw包含你自己选择的句子。现在，分裂raw的一些字符以外的空间，例如：‘s'"
   ]
  },
  {
   "cell_type": "code",
   "execution_count": 44,
   "metadata": {},
   "outputs": [
    {
     "data": {
      "text/plain": [
       "['No man or woman i',\n",
       " ' worth your tear',\n",
       " ', and the one who i',\n",
       " ', won’t make you cry.']"
      ]
     },
     "execution_count": 44,
     "metadata": {},
     "output_type": "execute_result"
    }
   ],
   "source": [
    "raw = 'No man or woman is worth your tears, and the one who is, won’t make you cry.'\n",
    "raw.split('s')"
   ]
  },
  {
   "cell_type": "markdown",
   "metadata": {},
   "source": [
    "# 8.编写一个for循环输出一个字符串的字符，每行一个"
   ]
  },
  {
   "cell_type": "code",
   "execution_count": 52,
   "metadata": {},
   "outputs": [
    {
     "name": "stdout",
     "output_type": "stream",
     "text": [
      "N\n",
      "\n",
      "o\n",
      "\n",
      " \n",
      "\n",
      "m\n",
      "\n",
      "a\n",
      "\n",
      "n\n",
      "\n",
      " \n",
      "\n",
      "o\n",
      "\n",
      "r\n",
      "\n",
      " \n",
      "\n",
      "w\n",
      "\n",
      "o\n",
      "\n",
      "m\n",
      "\n",
      "a\n",
      "\n",
      "n\n",
      "\n",
      " \n",
      "\n",
      "i\n",
      "\n",
      "s\n",
      "\n",
      " \n",
      "\n",
      "w\n",
      "\n",
      "o\n",
      "\n",
      "r\n",
      "\n",
      "t\n",
      "\n",
      "h\n",
      "\n",
      " \n",
      "\n",
      "y\n",
      "\n",
      "o\n",
      "\n",
      "u\n",
      "\n",
      "r\n",
      "\n",
      " \n",
      "\n",
      "t\n",
      "\n",
      "e\n",
      "\n",
      "a\n",
      "\n",
      "r\n",
      "\n",
      "s\n",
      "\n",
      ",\n",
      "\n",
      " \n",
      "\n",
      "a\n",
      "\n",
      "n\n",
      "\n",
      "d\n",
      "\n",
      " \n",
      "\n",
      "t\n",
      "\n",
      "h\n",
      "\n",
      "e\n",
      "\n",
      " \n",
      "\n",
      "o\n",
      "\n",
      "n\n",
      "\n",
      "e\n",
      "\n",
      " \n",
      "\n",
      "w\n",
      "\n",
      "h\n",
      "\n",
      "o\n",
      "\n",
      " \n",
      "\n",
      "i\n",
      "\n",
      "s\n",
      "\n",
      ",\n",
      "\n",
      " \n",
      "\n",
      "w\n",
      "\n",
      "o\n",
      "\n",
      "n\n",
      "\n",
      "’\n",
      "\n",
      "t\n",
      "\n",
      " \n",
      "\n",
      "m\n",
      "\n",
      "a\n",
      "\n",
      "k\n",
      "\n",
      "e\n",
      "\n",
      " \n",
      "\n",
      "y\n",
      "\n",
      "o\n",
      "\n",
      "u\n",
      "\n",
      " \n",
      "\n",
      "c\n",
      "\n",
      "r\n",
      "\n",
      "y\n",
      "\n",
      ".\n",
      "\n"
     ]
    }
   ],
   "source": [
    "len(raw)\n",
    "for i in range(len(raw)):\n",
    "    print (raw[i]+\"\\n\")"
   ]
  },
  {
   "cell_type": "markdown",
   "metadata": {},
   "source": [
    "# 9.创建一个变量words,包含-一个词链表。实验words.sort( )和sorted(words)。它们有什么区别?\n"
   ]
  },
  {
   "cell_type": "code",
   "execution_count": 4,
   "metadata": {
    "collapsed": true
   },
   "outputs": [],
   "source": [
    "words = ['The','dog','gave','John','the','newspaper']"
   ]
  },
  {
   "cell_type": "code",
   "execution_count": 59,
   "metadata": {
    "collapsed": true
   },
   "outputs": [],
   "source": [
    "words.sort()"
   ]
  },
  {
   "cell_type": "code",
   "execution_count": 60,
   "metadata": {},
   "outputs": [
    {
     "data": {
      "text/plain": [
       "['John', 'The', 'dog', 'gave', 'newspaper', 'the']"
      ]
     },
     "execution_count": 60,
     "metadata": {},
     "output_type": "execute_result"
    }
   ],
   "source": [
    "sorted(words)"
   ]
  },
  {
   "cell_type": "code",
   "execution_count": 61,
   "metadata": {},
   "outputs": [
    {
     "name": "stdout",
     "output_type": "stream",
     "text": [
      "sort 是应用在 list 上的方法，sorted 可以对所有可迭代的对象进行排序操作。\n"
     ]
    }
   ],
   "source": [
    "print(\"sort 是应用在 list 上的方法，sorted 可以对所有可迭代的对象进行排序操作。\")"
   ]
  },
  {
   "cell_type": "markdown",
   "metadata": {},
   "source": [
    "# 10.通过在Python提示符输入以下表达式，探索字符串和整数的区别:\"3\" * 7和3 * 7。尝试使用int(\"3\")和str(3)进行字符串和整数之间的转换\n"
   ]
  },
  {
   "cell_type": "code",
   "execution_count": 62,
   "metadata": {},
   "outputs": [
    {
     "data": {
      "text/plain": [
       "'3333333'"
      ]
     },
     "execution_count": 62,
     "metadata": {},
     "output_type": "execute_result"
    }
   ],
   "source": [
    "\"3\"*7"
   ]
  },
  {
   "cell_type": "code",
   "execution_count": 63,
   "metadata": {},
   "outputs": [
    {
     "data": {
      "text/plain": [
       "21"
      ]
     },
     "execution_count": 63,
     "metadata": {},
     "output_type": "execute_result"
    }
   ],
   "source": [
    "3*7"
   ]
  },
  {
   "cell_type": "code",
   "execution_count": 65,
   "metadata": {},
   "outputs": [
    {
     "data": {
      "text/plain": [
       "3"
      ]
     },
     "execution_count": 65,
     "metadata": {},
     "output_type": "execute_result"
    }
   ],
   "source": [
    "int(\"3\")"
   ]
  },
  {
   "cell_type": "code",
   "execution_count": 66,
   "metadata": {},
   "outputs": [
    {
     "data": {
      "text/plain": [
       "3"
      ]
     },
     "execution_count": 66,
     "metadata": {},
     "output_type": "execute_result"
    }
   ],
   "source": [
    "int(\"3\")"
   ]
  },
  {
   "cell_type": "code",
   "execution_count": 67,
   "metadata": {},
   "outputs": [
    {
     "data": {
      "text/plain": [
       "'3'"
      ]
     },
     "execution_count": 67,
     "metadata": {},
     "output_type": "execute_result"
    }
   ],
   "source": [
    "str(3)"
   ]
  },
  {
   "cell_type": "code",
   "execution_count": 68,
   "metadata": {},
   "outputs": [
    {
     "name": "stdout",
     "output_type": "stream",
     "text": [
      "遵循强制转换原则\n"
     ]
    }
   ],
   "source": [
    "print(\"遵循强制转换原则\")"
   ]
  },
  {
   "cell_type": "markdown",
   "metadata": {},
   "source": [
    "# 11.格式化字符串%6s与%-6s用来显示长度大于6个字符的字符串时，会发生什么?\n"
   ]
  },
  {
   "cell_type": "code",
   "execution_count": 76,
   "metadata": {},
   "outputs": [
    {
     "data": {
      "text/plain": [
       "'maring'"
      ]
     },
     "execution_count": 76,
     "metadata": {},
     "output_type": "execute_result"
    }
   ],
   "source": [
    "'%6s' %'marning'"
   ]
  },
  {
   "cell_type": "code",
   "execution_count": 77,
   "metadata": {},
   "outputs": [
    {
     "data": {
      "text/plain": [
       "'abandon'"
      ]
     },
     "execution_count": 77,
     "metadata": {},
     "output_type": "execute_result"
    }
   ],
   "source": [
    "'%6s'%'abandon'"
   ]
  },
  {
   "cell_type": "code",
   "execution_count": 78,
   "metadata": {},
   "outputs": [
    {
     "data": {
      "text/plain": [
       "'abandon'"
      ]
     },
     "execution_count": 78,
     "metadata": {},
     "output_type": "execute_result"
    }
   ],
   "source": [
    "'%-6s'%'abandon'"
   ]
  },
  {
   "cell_type": "code",
   "execution_count": 79,
   "metadata": {},
   "outputs": [
    {
     "data": {
      "text/plain": [
       "'dog   '"
      ]
     },
     "execution_count": 79,
     "metadata": {},
     "output_type": "execute_result"
    }
   ],
   "source": [
    "'%-6s'%'marning'"
   ]
  },
  {
   "cell_type": "markdown",
   "metadata": {},
   "source": [
    "# 12阅读语料库中的一-些文字，为它们分词，输出其中出现的所有wh类型词的列表。(英语中的wh-类型词被用在疑问句，关系从句和感叹句: who, which, what 等。)按顺序输出它们。在这个列表中有因为有大小写或标点符号的存在而重复的词吗?\n"
   ]
  },
  {
   "cell_type": "code",
   "execution_count": 7,
   "metadata": {},
   "outputs": [
    {
     "name": "stdout",
     "output_type": "stream",
     "text": [
      "*** Introductory Examples for the NLTK Book ***\n",
      "Loading text1, ..., text9 and sent1, ..., sent9\n",
      "Type the name of the text or sentence to view it.\n",
      "Type: 'texts()' or 'sents()' to list the materials.\n",
      "text1: Moby Dick by Herman Melville 1851\n",
      "text2: Sense and Sensibility by Jane Austen 1811\n",
      "text3: The Book of Genesis\n",
      "text4: Inaugural Address Corpus\n",
      "text5: Chat Corpus\n",
      "text6: Monty Python and the Holy Grail\n",
      "text7: Wall Street Journal\n",
      "text8: Personals Corpus\n",
      "text9: The Man Who Was Thursday by G . K . Chesterton 1908\n"
     ]
    },
    {
     "data": {
      "text/plain": [
       "['WHALE',\n",
       " 'WHALE',\n",
       " 'WHALE',\n",
       " 'WHALE',\n",
       " 'WHALE',\n",
       " 'WHALE',\n",
       " 'WHALE',\n",
       " 'WHALE',\n",
       " 'WHALE',\n",
       " 'WHALE',\n",
       " 'WHALE',\n",
       " 'WHALE',\n",
       " 'WHALE',\n",
       " 'WHALE',\n",
       " 'WHALE',\n",
       " 'WHALE',\n",
       " 'WHALE',\n",
       " 'WHALE',\n",
       " 'WHALE',\n",
       " 'WHALE',\n",
       " 'WHALE',\n",
       " 'WHALE',\n",
       " 'WHALE',\n",
       " 'WHALE',\n",
       " 'WHALE',\n",
       " 'WHALE',\n",
       " 'WHALE',\n",
       " 'WHALE',\n",
       " 'WHALE',\n",
       " 'WHALE',\n",
       " 'WHALE',\n",
       " 'WHALE',\n",
       " 'WHALE',\n",
       " 'WHALE',\n",
       " 'WHALE',\n",
       " 'WHALE',\n",
       " 'WHALE',\n",
       " 'WHALE',\n",
       " 'WHALEBONE',\n",
       " 'WHALEMAN',\n",
       " 'WHALES',\n",
       " 'WHALES',\n",
       " 'WHALESHIPS',\n",
       " 'WHALING',\n",
       " 'WHALING',\n",
       " 'WHALING',\n",
       " 'WHALING',\n",
       " 'WHALING',\n",
       " 'WHALING',\n",
       " 'WHALING',\n",
       " 'WHALING',\n",
       " 'WHARTON',\n",
       " 'WHAT',\n",
       " 'WHAT',\n",
       " 'WHEN',\n",
       " 'WHERE',\n",
       " 'WHICH',\n",
       " 'WHICH',\n",
       " 'WHIFF',\n",
       " 'WHITE',\n",
       " 'WHOEL',\n",
       " 'Whale',\n",
       " 'Whale',\n",
       " 'Whale',\n",
       " 'Whale',\n",
       " 'Whale',\n",
       " 'Whale',\n",
       " 'Whale',\n",
       " 'Whale',\n",
       " 'Whale',\n",
       " 'Whale',\n",
       " 'Whale',\n",
       " 'Whale',\n",
       " 'Whale',\n",
       " 'Whale',\n",
       " 'Whale',\n",
       " 'Whale',\n",
       " 'Whale',\n",
       " 'Whale',\n",
       " 'Whale',\n",
       " 'Whale',\n",
       " 'Whale',\n",
       " 'Whale',\n",
       " 'Whale',\n",
       " 'Whale',\n",
       " 'Whale',\n",
       " 'Whale',\n",
       " 'Whale',\n",
       " 'Whale',\n",
       " 'Whale',\n",
       " 'Whale',\n",
       " 'Whale',\n",
       " 'Whale',\n",
       " 'Whale',\n",
       " 'Whale',\n",
       " 'Whale',\n",
       " 'Whale',\n",
       " 'Whale',\n",
       " 'Whale',\n",
       " 'Whale',\n",
       " 'Whale',\n",
       " 'Whale',\n",
       " 'Whale',\n",
       " 'Whale',\n",
       " 'Whale',\n",
       " 'Whale',\n",
       " 'Whale',\n",
       " 'Whale',\n",
       " 'Whale',\n",
       " 'Whale',\n",
       " 'Whale',\n",
       " 'Whale',\n",
       " 'Whale',\n",
       " 'Whale',\n",
       " 'Whale',\n",
       " 'Whale',\n",
       " 'Whale',\n",
       " 'Whale',\n",
       " 'Whale',\n",
       " 'Whale',\n",
       " 'Whale',\n",
       " 'Whale',\n",
       " 'Whale',\n",
       " 'Whale',\n",
       " 'Whale',\n",
       " 'Whale',\n",
       " 'Whale',\n",
       " 'Whale',\n",
       " 'Whale',\n",
       " 'Whale',\n",
       " 'Whale',\n",
       " 'Whale',\n",
       " 'Whale',\n",
       " 'Whale',\n",
       " 'Whale',\n",
       " 'Whale',\n",
       " 'Whale',\n",
       " 'Whale',\n",
       " 'Whale',\n",
       " 'Whale',\n",
       " 'Whale',\n",
       " 'Whale',\n",
       " 'Whale',\n",
       " 'Whale',\n",
       " 'Whale',\n",
       " 'Whale',\n",
       " 'Whale',\n",
       " 'Whale',\n",
       " 'Whale',\n",
       " 'Whale',\n",
       " 'Whale',\n",
       " 'Whale',\n",
       " 'Whale',\n",
       " 'Whale',\n",
       " 'Whale',\n",
       " 'Whale',\n",
       " 'Whale',\n",
       " 'Whale',\n",
       " 'Whale',\n",
       " 'Whale',\n",
       " 'Whale',\n",
       " 'Whale',\n",
       " 'Whale',\n",
       " 'Whale',\n",
       " 'Whale',\n",
       " 'Whale',\n",
       " 'Whale',\n",
       " 'Whale',\n",
       " 'Whale',\n",
       " 'Whale',\n",
       " 'Whale',\n",
       " 'Whale',\n",
       " 'Whale',\n",
       " 'Whale',\n",
       " 'Whale',\n",
       " 'Whale',\n",
       " 'Whale',\n",
       " 'Whale',\n",
       " 'Whale',\n",
       " 'Whale',\n",
       " 'Whale',\n",
       " 'Whale',\n",
       " 'Whale',\n",
       " 'Whale',\n",
       " 'Whale',\n",
       " 'Whale',\n",
       " 'Whale',\n",
       " 'Whale',\n",
       " 'Whale',\n",
       " 'Whale',\n",
       " 'Whale',\n",
       " 'Whale',\n",
       " 'Whale',\n",
       " 'Whale',\n",
       " 'Whale',\n",
       " 'Whale',\n",
       " 'Whale',\n",
       " 'Whale',\n",
       " 'Whale',\n",
       " 'Whale',\n",
       " 'Whale',\n",
       " 'Whale',\n",
       " 'Whale',\n",
       " 'Whale',\n",
       " 'Whale',\n",
       " 'Whale',\n",
       " 'Whale',\n",
       " 'Whale',\n",
       " 'Whale',\n",
       " 'Whale',\n",
       " 'Whale',\n",
       " 'Whale',\n",
       " 'Whale',\n",
       " 'Whale',\n",
       " 'Whale',\n",
       " 'Whale',\n",
       " 'Whale',\n",
       " 'Whale',\n",
       " 'Whale',\n",
       " 'Whale',\n",
       " 'Whale',\n",
       " 'Whale',\n",
       " 'Whale',\n",
       " 'Whale',\n",
       " 'Whale',\n",
       " 'Whale',\n",
       " 'Whale',\n",
       " 'Whale',\n",
       " 'Whale',\n",
       " 'Whale',\n",
       " 'Whale',\n",
       " 'Whale',\n",
       " 'Whale',\n",
       " 'Whale',\n",
       " 'Whale',\n",
       " 'Whale',\n",
       " 'Whale',\n",
       " 'Whale',\n",
       " 'Whale',\n",
       " 'Whale',\n",
       " 'Whale',\n",
       " 'Whale',\n",
       " 'Whale',\n",
       " 'Whale',\n",
       " 'Whale',\n",
       " 'Whale',\n",
       " 'Whale',\n",
       " 'Whale',\n",
       " 'Whale',\n",
       " 'Whale',\n",
       " 'Whale',\n",
       " 'Whale',\n",
       " 'Whale',\n",
       " 'Whale',\n",
       " 'Whale',\n",
       " 'Whale',\n",
       " 'Whale',\n",
       " 'Whale',\n",
       " 'Whale',\n",
       " 'Whale',\n",
       " 'Whale',\n",
       " 'Whale',\n",
       " 'Whale',\n",
       " 'Whale',\n",
       " 'Whale',\n",
       " 'Whale',\n",
       " 'Whale',\n",
       " 'Whale',\n",
       " 'Whale',\n",
       " 'Whale',\n",
       " 'Whale',\n",
       " 'Whale',\n",
       " 'Whale',\n",
       " 'Whale',\n",
       " 'Whale',\n",
       " 'Whale',\n",
       " 'Whale',\n",
       " 'Whale',\n",
       " 'Whale',\n",
       " 'Whale',\n",
       " 'Whale',\n",
       " 'Whale',\n",
       " 'Whale',\n",
       " 'Whale',\n",
       " 'Whale',\n",
       " 'Whale',\n",
       " 'Whale',\n",
       " 'Whale',\n",
       " 'Whale',\n",
       " 'Whale',\n",
       " 'Whale',\n",
       " 'Whale',\n",
       " 'Whale',\n",
       " 'Whale',\n",
       " 'Whale',\n",
       " 'Whale',\n",
       " 'Whale',\n",
       " 'Whale',\n",
       " 'Whale',\n",
       " 'Whale',\n",
       " 'Whale',\n",
       " 'Whale',\n",
       " 'Whale',\n",
       " 'Whale',\n",
       " 'Whale',\n",
       " 'Whale',\n",
       " 'Whale',\n",
       " 'Whale',\n",
       " 'Whale',\n",
       " 'Whale',\n",
       " 'Whale',\n",
       " 'Whale',\n",
       " 'Whale',\n",
       " 'Whale',\n",
       " 'Whale',\n",
       " 'Whale',\n",
       " 'Whale',\n",
       " 'Whale',\n",
       " 'Whale',\n",
       " 'Whale',\n",
       " 'Whale',\n",
       " 'Whale',\n",
       " 'Whale',\n",
       " 'Whale',\n",
       " 'Whale',\n",
       " 'Whale',\n",
       " 'Whale',\n",
       " 'Whale',\n",
       " 'Whale',\n",
       " 'Whale',\n",
       " 'Whale',\n",
       " 'Whale',\n",
       " 'Whale',\n",
       " 'Whale',\n",
       " 'Whale',\n",
       " 'Whale',\n",
       " 'Whale',\n",
       " 'Whale',\n",
       " 'Whale',\n",
       " 'Whale',\n",
       " 'Whale',\n",
       " 'Whale',\n",
       " 'Whale',\n",
       " 'Whalebone',\n",
       " 'Whalebone',\n",
       " 'Whaleman',\n",
       " 'Whalemen',\n",
       " 'Whaler',\n",
       " 'Whaler',\n",
       " 'Whaler',\n",
       " 'Whales',\n",
       " 'Whales',\n",
       " 'Whales',\n",
       " 'Whales',\n",
       " 'Whales',\n",
       " 'Whales',\n",
       " 'Whales',\n",
       " 'Whales',\n",
       " 'Whales',\n",
       " 'Whales',\n",
       " 'Whales',\n",
       " 'Whales',\n",
       " 'Whales',\n",
       " 'Whales',\n",
       " 'Whales',\n",
       " 'Whales',\n",
       " 'Whales',\n",
       " 'Whales',\n",
       " 'Whales',\n",
       " 'Whales',\n",
       " 'Whales',\n",
       " 'Whales',\n",
       " 'Whales',\n",
       " 'Whales',\n",
       " 'Whales',\n",
       " 'Whales',\n",
       " 'Whales',\n",
       " 'Whales',\n",
       " 'Whales',\n",
       " 'Whaling',\n",
       " 'Whaling',\n",
       " 'Whaling',\n",
       " 'Whaling',\n",
       " 'Whaling',\n",
       " 'Whaling',\n",
       " 'Whaling',\n",
       " 'What',\n",
       " 'What',\n",
       " 'What',\n",
       " 'What',\n",
       " 'What',\n",
       " 'What',\n",
       " 'What',\n",
       " 'What',\n",
       " 'What',\n",
       " 'What',\n",
       " 'What',\n",
       " 'What',\n",
       " 'What',\n",
       " 'What',\n",
       " 'What',\n",
       " 'What',\n",
       " 'What',\n",
       " 'What',\n",
       " 'What',\n",
       " 'What',\n",
       " 'What',\n",
       " 'What',\n",
       " 'What',\n",
       " 'What',\n",
       " 'What',\n",
       " 'What',\n",
       " 'What',\n",
       " 'What',\n",
       " 'What',\n",
       " 'What',\n",
       " 'What',\n",
       " 'What',\n",
       " 'What',\n",
       " 'What',\n",
       " 'What',\n",
       " 'What',\n",
       " 'What',\n",
       " 'What',\n",
       " 'What',\n",
       " 'What',\n",
       " 'What',\n",
       " 'What',\n",
       " 'What',\n",
       " 'What',\n",
       " 'What',\n",
       " 'What',\n",
       " 'What',\n",
       " 'What',\n",
       " 'What',\n",
       " 'What',\n",
       " 'What',\n",
       " 'What',\n",
       " 'What',\n",
       " 'What',\n",
       " 'What',\n",
       " 'What',\n",
       " 'What',\n",
       " 'What',\n",
       " 'What',\n",
       " 'What',\n",
       " 'What',\n",
       " 'What',\n",
       " 'What',\n",
       " 'What',\n",
       " 'What',\n",
       " 'What',\n",
       " 'What',\n",
       " 'What',\n",
       " 'What',\n",
       " 'What',\n",
       " 'What',\n",
       " 'What',\n",
       " 'What',\n",
       " 'What',\n",
       " 'What',\n",
       " 'What',\n",
       " 'What',\n",
       " 'What',\n",
       " 'What',\n",
       " 'What',\n",
       " 'What',\n",
       " 'What',\n",
       " 'What',\n",
       " 'What',\n",
       " 'What',\n",
       " 'What',\n",
       " 'What',\n",
       " 'What',\n",
       " 'What',\n",
       " 'What',\n",
       " 'What',\n",
       " 'What',\n",
       " 'What',\n",
       " 'What',\n",
       " 'What',\n",
       " 'What',\n",
       " 'What',\n",
       " 'What',\n",
       " 'What',\n",
       " 'What',\n",
       " 'What',\n",
       " 'What',\n",
       " 'What',\n",
       " 'What',\n",
       " 'What',\n",
       " 'What',\n",
       " 'What',\n",
       " 'What',\n",
       " 'What',\n",
       " 'What',\n",
       " 'What',\n",
       " 'What',\n",
       " 'What',\n",
       " 'What',\n",
       " 'What',\n",
       " 'What',\n",
       " 'What',\n",
       " 'What',\n",
       " 'What',\n",
       " 'What',\n",
       " 'What',\n",
       " 'What',\n",
       " 'What',\n",
       " 'What',\n",
       " 'What',\n",
       " 'What',\n",
       " 'What',\n",
       " 'What',\n",
       " 'What',\n",
       " 'What',\n",
       " 'What',\n",
       " 'What',\n",
       " 'What',\n",
       " 'What',\n",
       " 'What',\n",
       " 'What',\n",
       " 'What',\n",
       " 'What',\n",
       " 'What',\n",
       " 'What',\n",
       " 'What',\n",
       " 'What',\n",
       " 'What',\n",
       " 'What',\n",
       " 'What',\n",
       " 'What',\n",
       " 'What',\n",
       " 'What',\n",
       " 'What',\n",
       " 'What',\n",
       " 'What',\n",
       " 'What',\n",
       " 'What',\n",
       " 'What',\n",
       " 'What',\n",
       " 'What',\n",
       " 'What',\n",
       " 'What',\n",
       " 'What',\n",
       " 'What',\n",
       " 'What',\n",
       " 'What',\n",
       " 'What',\n",
       " 'What',\n",
       " 'What',\n",
       " 'What',\n",
       " 'What',\n",
       " 'What',\n",
       " 'What',\n",
       " 'What',\n",
       " 'What',\n",
       " 'What',\n",
       " 'What',\n",
       " 'What',\n",
       " 'Whatever',\n",
       " 'Whatever',\n",
       " 'Wheelbarrow',\n",
       " 'Whelped',\n",
       " 'When',\n",
       " 'When',\n",
       " 'When',\n",
       " 'When',\n",
       " 'When',\n",
       " 'When',\n",
       " 'When',\n",
       " 'When',\n",
       " 'When',\n",
       " 'When',\n",
       " 'When',\n",
       " 'When',\n",
       " 'When',\n",
       " 'When',\n",
       " 'When',\n",
       " 'When',\n",
       " 'When',\n",
       " 'When',\n",
       " 'When',\n",
       " 'When',\n",
       " 'When',\n",
       " 'When',\n",
       " 'When',\n",
       " 'When',\n",
       " 'When',\n",
       " 'When',\n",
       " 'When',\n",
       " 'When',\n",
       " 'When',\n",
       " 'When',\n",
       " 'When',\n",
       " 'When',\n",
       " 'When',\n",
       " 'When',\n",
       " 'When',\n",
       " 'When',\n",
       " 'When',\n",
       " 'When',\n",
       " 'When',\n",
       " 'When',\n",
       " 'When',\n",
       " 'When',\n",
       " 'When',\n",
       " 'When',\n",
       " 'When',\n",
       " 'When',\n",
       " 'When',\n",
       " 'When',\n",
       " 'When',\n",
       " 'When',\n",
       " 'When',\n",
       " 'When',\n",
       " 'Whence',\n",
       " 'Whence',\n",
       " 'Whence',\n",
       " 'Whenever',\n",
       " 'Where',\n",
       " 'Where',\n",
       " 'Where',\n",
       " 'Where',\n",
       " 'Where',\n",
       " 'Where',\n",
       " 'Where',\n",
       " 'Where',\n",
       " 'Where',\n",
       " 'Where',\n",
       " 'Where',\n",
       " 'Where',\n",
       " 'Where',\n",
       " 'Where',\n",
       " 'Where',\n",
       " 'Where',\n",
       " 'Where',\n",
       " 'Where',\n",
       " 'Where',\n",
       " 'Where',\n",
       " 'Where',\n",
       " 'Where',\n",
       " 'Where',\n",
       " 'Where',\n",
       " 'Where',\n",
       " 'Where',\n",
       " 'Where',\n",
       " 'Where',\n",
       " 'Where',\n",
       " 'Whereas',\n",
       " 'Whereas',\n",
       " 'Whereas',\n",
       " 'Whereas',\n",
       " 'Wherefore',\n",
       " 'Wherefore',\n",
       " 'Wherefore',\n",
       " 'Wherefore',\n",
       " 'Wherefore',\n",
       " 'Wherefore',\n",
       " 'Wherefore',\n",
       " 'Wherefore',\n",
       " 'Wherein',\n",
       " 'Whereupon',\n",
       " 'Whereupon',\n",
       " 'Whereupon',\n",
       " 'Whether',\n",
       " 'Whether',\n",
       " 'Whether',\n",
       " 'Whether',\n",
       " 'Whether',\n",
       " 'Whether',\n",
       " 'Whether',\n",
       " 'Whether',\n",
       " 'Whether',\n",
       " 'Whether',\n",
       " 'Whether',\n",
       " 'Whether',\n",
       " 'Whether',\n",
       " 'Whether',\n",
       " 'Whether',\n",
       " 'Whew',\n",
       " 'Which',\n",
       " 'Which',\n",
       " 'Which',\n",
       " 'Which',\n",
       " 'Which',\n",
       " 'Which',\n",
       " 'While',\n",
       " 'While',\n",
       " 'While',\n",
       " 'While',\n",
       " 'While',\n",
       " 'While',\n",
       " 'While',\n",
       " 'While',\n",
       " 'While',\n",
       " 'While',\n",
       " 'While',\n",
       " 'While',\n",
       " 'While',\n",
       " 'While',\n",
       " 'While',\n",
       " 'While',\n",
       " 'While',\n",
       " 'While',\n",
       " 'While',\n",
       " 'While',\n",
       " 'While',\n",
       " 'While',\n",
       " 'While',\n",
       " 'While',\n",
       " 'While',\n",
       " 'While',\n",
       " 'While',\n",
       " 'While',\n",
       " 'While',\n",
       " 'While',\n",
       " 'Whilst',\n",
       " 'Whirlpooles',\n",
       " 'Whisper',\n",
       " 'White',\n",
       " 'White',\n",
       " 'White',\n",
       " 'White',\n",
       " 'White',\n",
       " 'White',\n",
       " 'White',\n",
       " 'White',\n",
       " 'White',\n",
       " 'White',\n",
       " 'White',\n",
       " 'White',\n",
       " 'White',\n",
       " 'White',\n",
       " 'White',\n",
       " 'White',\n",
       " 'White',\n",
       " 'White',\n",
       " 'White',\n",
       " 'White',\n",
       " 'White',\n",
       " 'White',\n",
       " 'White',\n",
       " 'White',\n",
       " 'White',\n",
       " 'White',\n",
       " 'White',\n",
       " 'White',\n",
       " 'White',\n",
       " 'White',\n",
       " 'White',\n",
       " 'White',\n",
       " 'White',\n",
       " 'White',\n",
       " 'White',\n",
       " 'White',\n",
       " 'White',\n",
       " 'White',\n",
       " 'White',\n",
       " 'White',\n",
       " 'White',\n",
       " 'White',\n",
       " 'White',\n",
       " 'White',\n",
       " 'White',\n",
       " 'White',\n",
       " 'White',\n",
       " 'White',\n",
       " 'White',\n",
       " 'White',\n",
       " 'White',\n",
       " 'White',\n",
       " 'White',\n",
       " 'White',\n",
       " 'White',\n",
       " 'White',\n",
       " 'White',\n",
       " 'White',\n",
       " 'White',\n",
       " 'White',\n",
       " 'White',\n",
       " 'White',\n",
       " 'White',\n",
       " 'White',\n",
       " 'White',\n",
       " 'White',\n",
       " 'White',\n",
       " 'White',\n",
       " 'White',\n",
       " 'White',\n",
       " 'White',\n",
       " 'White',\n",
       " 'White',\n",
       " 'White',\n",
       " 'White',\n",
       " 'White',\n",
       " 'White',\n",
       " 'White',\n",
       " 'White',\n",
       " 'White',\n",
       " 'White',\n",
       " 'White',\n",
       " 'White',\n",
       " 'White',\n",
       " 'White',\n",
       " 'White',\n",
       " 'White',\n",
       " 'White',\n",
       " 'White',\n",
       " 'Whitehall',\n",
       " 'Whiteness',\n",
       " 'Whitsuntide',\n",
       " 'Who',\n",
       " 'Who',\n",
       " 'Who',\n",
       " 'Who',\n",
       " 'Who',\n",
       " 'Who',\n",
       " 'Who',\n",
       " 'Who',\n",
       " 'Who',\n",
       " 'Who',\n",
       " 'Who',\n",
       " 'Who',\n",
       " 'Who',\n",
       " 'Who',\n",
       " 'Who',\n",
       " 'Who',\n",
       " 'Who',\n",
       " 'Who',\n",
       " 'Who',\n",
       " 'Who',\n",
       " 'Who',\n",
       " 'Who',\n",
       " 'Who',\n",
       " 'Who',\n",
       " 'Who',\n",
       " 'Who',\n",
       " 'Who',\n",
       " 'Who',\n",
       " 'Who',\n",
       " 'Who',\n",
       " 'Who',\n",
       " 'Who',\n",
       " 'Who',\n",
       " 'Who',\n",
       " 'Who',\n",
       " 'Who',\n",
       " 'Who',\n",
       " 'Who',\n",
       " 'Who',\n",
       " 'Who',\n",
       " 'Who',\n",
       " 'Who',\n",
       " 'Who',\n",
       " 'Who',\n",
       " 'Whole',\n",
       " 'Whom',\n",
       " 'Whose',\n",
       " 'Whosoever',\n",
       " 'Why',\n",
       " 'Why',\n",
       " 'Why',\n",
       " 'Why',\n",
       " 'Why',\n",
       " 'Why',\n",
       " 'Why',\n",
       " 'Why',\n",
       " 'Why',\n",
       " 'Why',\n",
       " 'Why',\n",
       " 'Why',\n",
       " 'Why',\n",
       " 'Why',\n",
       " 'Why',\n",
       " 'Why',\n",
       " 'Why',\n",
       " 'Why',\n",
       " 'Why',\n",
       " 'Why',\n",
       " 'Why',\n",
       " 'Why',\n",
       " 'Why',\n",
       " 'Why',\n",
       " 'Why',\n",
       " 'Why',\n",
       " 'Why',\n",
       " 'Why',\n",
       " 'Why',\n",
       " 'Why',\n",
       " 'Why',\n",
       " 'Why',\n",
       " 'Why',\n",
       " 'Why',\n",
       " 'Why',\n",
       " 'Why',\n",
       " 'Why',\n",
       " 'Why',\n",
       " 'Why',\n",
       " 'Why',\n",
       " 'Why',\n",
       " 'Why',\n",
       " 'Why',\n",
       " 'Why',\n",
       " 'Why',\n",
       " 'Why',\n",
       " 'Why',\n",
       " 'Why',\n",
       " 'whale',\n",
       " 'whale',\n",
       " 'whale',\n",
       " 'whale',\n",
       " 'whale',\n",
       " 'whale',\n",
       " 'whale',\n",
       " 'whale',\n",
       " 'whale',\n",
       " 'whale',\n",
       " 'whale',\n",
       " 'whale',\n",
       " 'whale',\n",
       " 'whale',\n",
       " 'whale',\n",
       " 'whale',\n",
       " 'whale',\n",
       " 'whale',\n",
       " 'whale',\n",
       " 'whale',\n",
       " 'whale',\n",
       " 'whale',\n",
       " 'whale',\n",
       " 'whale',\n",
       " 'whale',\n",
       " 'whale',\n",
       " 'whale',\n",
       " 'whale',\n",
       " 'whale',\n",
       " 'whale',\n",
       " 'whale',\n",
       " 'whale',\n",
       " 'whale',\n",
       " 'whale',\n",
       " 'whale',\n",
       " 'whale',\n",
       " 'whale',\n",
       " 'whale',\n",
       " 'whale',\n",
       " 'whale',\n",
       " 'whale',\n",
       " 'whale',\n",
       " 'whale',\n",
       " 'whale',\n",
       " 'whale',\n",
       " 'whale',\n",
       " 'whale',\n",
       " 'whale',\n",
       " 'whale',\n",
       " 'whale',\n",
       " 'whale',\n",
       " 'whale',\n",
       " 'whale',\n",
       " 'whale',\n",
       " 'whale',\n",
       " 'whale',\n",
       " 'whale',\n",
       " 'whale',\n",
       " 'whale',\n",
       " 'whale',\n",
       " 'whale',\n",
       " 'whale',\n",
       " 'whale',\n",
       " 'whale',\n",
       " 'whale',\n",
       " 'whale',\n",
       " 'whale',\n",
       " 'whale',\n",
       " 'whale',\n",
       " 'whale',\n",
       " 'whale',\n",
       " 'whale',\n",
       " 'whale',\n",
       " 'whale',\n",
       " 'whale',\n",
       " 'whale',\n",
       " 'whale',\n",
       " 'whale',\n",
       " 'whale',\n",
       " 'whale',\n",
       " 'whale',\n",
       " 'whale',\n",
       " 'whale',\n",
       " 'whale',\n",
       " 'whale',\n",
       " 'whale',\n",
       " 'whale',\n",
       " 'whale',\n",
       " 'whale',\n",
       " 'whale',\n",
       " 'whale',\n",
       " 'whale',\n",
       " ...]"
      ]
     },
     "execution_count": 7,
     "metadata": {},
     "output_type": "execute_result"
    }
   ],
   "source": [
    "import nltk\n",
    "from nltk.book import *\n",
    "sorted([w for w in text1 if w.lower().startswith('wh')])"
   ]
  },
  {
   "cell_type": "code",
   "execution_count": 8,
   "metadata": {},
   "outputs": [
    {
     "name": "stdout",
     "output_type": "stream",
     "text": [
      "会\n"
     ]
    }
   ],
   "source": [
    "print(\"会\")"
   ]
  },
  {
   "cell_type": "markdown",
   "metadata": {},
   "source": [
    "# 13.你能写一个正则表达式以这样的方式来分词吗?将词don't分为do和n't?解释为什么这个正则表达式无法正常工作: <xt|\\w+>>。"
   ]
  },
  {
   "cell_type": "code",
   "execution_count": 9,
   "metadata": {
    "collapsed": true
   },
   "outputs": [],
   "source": [
    "import re\n",
    "text=\"I don't know\""
   ]
  },
  {
   "cell_type": "code",
   "execution_count": 10,
   "metadata": {},
   "outputs": [
    {
     "data": {
      "text/plain": [
       "['I', \"don't\", 'know']"
      ]
     },
     "execution_count": 10,
     "metadata": {},
     "output_type": "execute_result"
    }
   ],
   "source": [
    "re.split(' ',text)"
   ]
  },
  {
   "cell_type": "code",
   "execution_count": 11,
   "metadata": {},
   "outputs": [
    {
     "data": {
      "text/plain": [
       "['I', 'don', 't', 'know']"
      ]
     },
     "execution_count": 11,
     "metadata": {},
     "output_type": "execute_result"
    }
   ],
   "source": [
    "re.findall(r'n\\'t|\\w+',text)"
   ]
  },
  {
   "cell_type": "code",
   "execution_count": 12,
   "metadata": {},
   "outputs": [
    {
     "ename": "TypeError",
     "evalue": "unsupported operand type(s) for |: 'str' and 'str'",
     "output_type": "error",
     "traceback": [
      "\u001b[1;31m---------------------------------------------------------------------------\u001b[0m",
      "\u001b[1;31mTypeError\u001b[0m                                 Traceback (most recent call last)",
      "\u001b[1;32m<ipython-input-12-783fac9f523f>\u001b[0m in \u001b[0;36m<module>\u001b[1;34m()\u001b[0m\n\u001b[1;32m----> 1\u001b[1;33m \u001b[0mre\u001b[0m\u001b[1;33m.\u001b[0m\u001b[0mfindall\u001b[0m\u001b[1;33m(\u001b[0m\u001b[1;34m'n\\'t'\u001b[0m\u001b[1;33m|\u001b[0m\u001b[1;34mr'\\w+'\u001b[0m\u001b[1;33m,\u001b[0m\u001b[0mtext\u001b[0m\u001b[1;33m)\u001b[0m\u001b[1;33m\u001b[0m\u001b[0m\n\u001b[0m",
      "\u001b[1;31mTypeError\u001b[0m: unsupported operand type(s) for |: 'str' and 'str'"
     ]
    }
   ],
   "source": [
    "re.findall('n\\'t'|r'\\w+',text)"
   ]
  },
  {
   "cell_type": "code",
   "execution_count": null,
   "metadata": {
    "collapsed": true
   },
   "outputs": [],
   "source": [
    "print(\"因为没有“r”\")"
   ]
  },
  {
   "cell_type": "markdown",
   "metadata": {},
   "source": [
    "# 14.Python 的random模块包括函数choice(),它从-一个序列中随机选择一一个项目;例如:choice(\"aehh \")会产生四种可能的字符中的一一个，字母h的几率是其它字母的两倍。写一个表达式产生器，从字符串\"aehh \"产生500个随机选择的字母的序列，并将这个表达式写入函数\" join()调用中，将它们连接成-一个长字符串。你得到的结果应该看起来像失去控制的喷嚏或狂笑: he haha ee heheeh eha。 使用split()和 join()再次规范化这个字符串中的空格。\n"
   ]
  },
  {
   "cell_type": "code",
   "execution_count": null,
   "metadata": {
    "collapsed": true
   },
   "outputs": [],
   "source": [
    "import random\n",
    "str=[]"
   ]
  },
  {
   "cell_type": "code",
   "execution_count": null,
   "metadata": {
    "collapsed": true
   },
   "outputs": [],
   "source": [
    "for i in range(500):\n",
    "    str.append(random.choice(\"aehh \"))"
   ]
  },
  {
   "cell_type": "code",
   "execution_count": 20,
   "metadata": {},
   "outputs": [
    {
     "data": {
      "text/plain": [
       "'ab'"
      ]
     },
     "execution_count": 20,
     "metadata": {},
     "output_type": "execute_result"
    }
   ],
   "source": [
    "str"
   ]
  },
  {
   "cell_type": "code",
   "execution_count": 19,
   "metadata": {},
   "outputs": [
    {
     "data": {
      "text/plain": [
       "'ab'"
      ]
     },
     "execution_count": 19,
     "metadata": {},
     "output_type": "execute_result"
    }
   ],
   "source": [
    "''.join(str)"
   ]
  },
  {
   "cell_type": "code",
   "execution_count": 18,
   "metadata": {
    "collapsed": true,
    "scrolled": true
   },
   "outputs": [],
   "source": [
    "word=str.split()"
   ]
  },
  {
   "cell_type": "code",
   "execution_count": 17,
   "metadata": {},
   "outputs": [
    {
     "data": {
      "text/plain": [
       "'newspaper'"
      ]
     },
     "execution_count": 17,
     "metadata": {},
     "output_type": "execute_result"
    }
   ],
   "source": [
    "word"
   ]
  },
  {
   "cell_type": "code",
   "execution_count": 16,
   "metadata": {
    "collapsed": true
   },
   "outputs": [],
   "source": [
    "str=''.join(['a','b'])"
   ]
  },
  {
   "cell_type": "code",
   "execution_count": 15,
   "metadata": {},
   "outputs": [
    {
     "data": {
      "text/plain": [
       "'ab'"
      ]
     },
     "execution_count": 15,
     "metadata": {},
     "output_type": "execute_result"
    }
   ],
   "source": [
    "str"
   ]
  },
  {
   "cell_type": "markdown",
   "metadata": {},
   "source": [
    "# 15.定义变量saying包含链表['After', all', 'is', 'said','and', 'done', , 'more','is', 'said', 'than', 'done', '.]。 使用for循环处理这个链表，并将结果存储在一一个新的链表lengths中。提示:使用lengths = []，分配一个空链表给lengths开始。然后每次循环中用append()添加另-一个长度值到链表中。\n"
   ]
  },
  {
   "cell_type": "code",
   "execution_count": 159,
   "metadata": {
    "collapsed": true
   },
   "outputs": [],
   "source": [
    "saying=['After', 'all', 'is', 'said','and', 'done', ',', 'more','is', 'said', 'than', 'done', '.']"
   ]
  },
  {
   "cell_type": "code",
   "execution_count": 160,
   "metadata": {
    "collapsed": true
   },
   "outputs": [],
   "source": [
    "length=[]"
   ]
  },
  {
   "cell_type": "code",
   "execution_count": 161,
   "metadata": {
    "collapsed": true
   },
   "outputs": [],
   "source": [
    "for say in saying:\n",
    "    length.append(len(say))"
   ]
  },
  {
   "cell_type": "code",
   "execution_count": 162,
   "metadata": {},
   "outputs": [
    {
     "data": {
      "text/plain": [
       "[5, 3, 2, 4, 3, 4, 1, 4, 2, 4, 4, 4, 1]"
      ]
     },
     "execution_count": 162,
     "metadata": {},
     "output_type": "execute_result"
    }
   ],
   "source": [
    "length"
   ]
  },
  {
   "cell_type": "markdown",
   "metadata": {},
   "source": [
    "# 16"
   ]
  },
  {
   "cell_type": "markdown",
   "metadata": {},
   "source": [
    "# a"
   ]
  },
  {
   "cell_type": "code",
   "execution_count": null,
   "metadata": {
    "collapsed": true
   },
   "outputs": [],
   "source": [
    "silly='newly formed bland ideas are inexpressible in an infuriating way'"
   ]
  },
  {
   "cell_type": "code",
   "execution_count": 164,
   "metadata": {
    "collapsed": true
   },
   "outputs": [],
   "source": [
    "bland=silly.split()"
   ]
  },
  {
   "cell_type": "code",
   "execution_count": 165,
   "metadata": {},
   "outputs": [
    {
     "data": {
      "text/plain": [
       "['newly',\n",
       " 'formed',\n",
       " 'bland',\n",
       " 'ideas',\n",
       " 'are',\n",
       " 'inexpressible',\n",
       " 'in',\n",
       " 'an',\n",
       " 'infuriating',\n",
       " 'way']"
      ]
     },
     "execution_count": 165,
     "metadata": {},
     "output_type": "execute_result"
    }
   ],
   "source": [
    "bland"
   ]
  },
  {
   "cell_type": "markdown",
   "metadata": {},
   "source": [
    "# b"
   ]
  },
  {
   "cell_type": "code",
   "execution_count": 169,
   "metadata": {
    "collapsed": true
   },
   "outputs": [],
   "source": [
    "silly2=[]"
   ]
  },
  {
   "cell_type": "code",
   "execution_count": 170,
   "metadata": {
    "collapsed": true
   },
   "outputs": [],
   "source": [
    "for word in bland:\n",
    "    silly2.append(word[1])"
   ]
  },
  {
   "cell_type": "code",
   "execution_count": 171,
   "metadata": {},
   "outputs": [
    {
     "data": {
      "text/plain": [
       "['e', 'o', 'l', 'd', 'r', 'n', 'n', 'n', 'n', 'a']"
      ]
     },
     "execution_count": 171,
     "metadata": {},
     "output_type": "execute_result"
    }
   ],
   "source": [
    "silly2"
   ]
  },
  {
   "cell_type": "code",
   "execution_count": 172,
   "metadata": {},
   "outputs": [
    {
     "data": {
      "text/plain": [
       "'eoldrnnnna'"
      ]
     },
     "execution_count": 172,
     "metadata": {},
     "output_type": "execute_result"
    }
   ],
   "source": [
    "''.join(silly2)"
   ]
  },
  {
   "cell_type": "markdown",
   "metadata": {},
   "source": [
    "# c"
   ]
  },
  {
   "cell_type": "code",
   "execution_count": 173,
   "metadata": {
    "collapsed": true
   },
   "outputs": [],
   "source": [
    "newsilly=' '.join(bland)"
   ]
  },
  {
   "cell_type": "code",
   "execution_count": 174,
   "metadata": {},
   "outputs": [
    {
     "data": {
      "text/plain": [
       "'newly formed bland ideas are inexpressible in an infuriating way'"
      ]
     },
     "execution_count": 174,
     "metadata": {},
     "output_type": "execute_result"
    }
   ],
   "source": [
    "newsilly"
   ]
  },
  {
   "cell_type": "markdown",
   "metadata": {},
   "source": [
    "# d"
   ]
  },
  {
   "cell_type": "code",
   "execution_count": 175,
   "metadata": {},
   "outputs": [
    {
     "name": "stdout",
     "output_type": "stream",
     "text": [
      "newly \n",
      "\n",
      "formed \n",
      "\n",
      "bland \n",
      "\n",
      "ideas \n",
      "\n",
      "are \n",
      "\n",
      "inexpressible \n",
      "\n",
      "in \n",
      "\n",
      "an \n",
      "\n",
      "infuriating \n",
      "\n",
      "way \n",
      "\n"
     ]
    }
   ],
   "source": [
    "for word in bland:\n",
    "    print(word,'\\n')"
   ]
  },
  {
   "cell_type": "markdown",
   "metadata": {},
   "source": [
    "# 17"
   ]
  },
  {
   "cell_type": "markdown",
   "metadata": {},
   "source": [
    "# a"
   ]
  },
  {
   "cell_type": "code",
   "execution_count": null,
   "metadata": {
    "collapsed": true
   },
   "outputs": [],
   "source": [
    "'inexpressible'.index('re')"
   ]
  },
  {
   "cell_type": "markdown",
   "metadata": {},
   "source": [
    "# b"
   ]
  },
  {
   "cell_type": "code",
   "execution_count": 177,
   "metadata": {},
   "outputs": [
    {
     "data": {
      "text/plain": [
       "9"
      ]
     },
     "execution_count": 177,
     "metadata": {},
     "output_type": "execute_result"
    }
   ],
   "source": [
    "bland.index('way')"
   ]
  },
  {
   "cell_type": "markdown",
   "metadata": {},
   "source": [
    "# c"
   ]
  },
  {
   "cell_type": "code",
   "execution_count": 178,
   "metadata": {},
   "outputs": [
    {
     "data": {
      "text/plain": [
       "43"
      ]
     },
     "execution_count": 178,
     "metadata": {},
     "output_type": "execute_result"
    }
   ],
   "source": [
    "silly.index('in ')"
   ]
  },
  {
   "cell_type": "markdown",
   "metadata": {},
   "source": [
    "# 18"
   ]
  },
  {
   "cell_type": "code",
   "execution_count": 181,
   "metadata": {},
   "outputs": [
    {
     "data": {
      "text/plain": [
       "[]"
      ]
     },
     "execution_count": 181,
     "metadata": {},
     "output_type": "execute_result"
    }
   ],
   "source": [
    "import re\n",
    "from nltk.corpus import brown\n",
    "text=''.join(brown.words())\n",
    "re.findall(r'as best \\w+ can',text)\n",
    "re.findall(r'as best as \\w+ can',text)"
   ]
  },
  {
   "cell_type": "markdown",
   "metadata": {},
   "source": [
    " # 19"
   ]
  },
  {
   "cell_type": "code",
   "execution_count": 182,
   "metadata": {
    "collapsed": true
   },
   "outputs": [],
   "source": [
    "import re"
   ]
  },
  {
   "cell_type": "code",
   "execution_count": 187,
   "metadata": {
    "collapsed": true
   },
   "outputs": [],
   "source": [
    "f=open(r\"C:/Users/Mr.B/Desktop/课程源文件/bottom.html\",encoding=\"utf-8\")"
   ]
  },
  {
   "cell_type": "code",
   "execution_count": 188,
   "metadata": {
    "collapsed": true
   },
   "outputs": [],
   "source": [
    "raw=f.read()"
   ]
  },
  {
   "cell_type": "code",
   "execution_count": 194,
   "metadata": {
    "collapsed": true
   },
   "outputs": [],
   "source": [
    "pattern=r'''(?x)\n",
    "<html>\n",
    "</html>\n",
    "'''"
   ]
  },
  {
   "cell_type": "code",
   "execution_count": 195,
   "metadata": {},
   "outputs": [
    {
     "data": {
      "text/plain": [
       "'<html>\\n\\t<head>\\n\\t\\t<title>HTML框架</title>\\n\\t\\t<meta charset=\"utf-8\">\\n\\t</head>\\n\\t<body bgcolor=\"green\">\\n\\t\\t<center><p><font color=\"white\">麦子学院版权所有</font></p></center>\\n\\t</body>\\n</html>'"
      ]
     },
     "execution_count": 195,
     "metadata": {},
     "output_type": "execute_result"
    }
   ],
   "source": [
    "re.sub(pattern,' ',raw)"
   ]
  },
  {
   "cell_type": "markdown",
   "metadata": {},
   "source": [
    "# 20"
   ]
  },
  {
   "cell_type": "markdown",
   "metadata": {},
   "source": [
    "# a"
   ]
  },
  {
   "cell_type": "code",
   "execution_count": null,
   "metadata": {
    "collapsed": true
   },
   "outputs": [],
   "source": [
    "import nltk\n",
    "nltk.re_show('an?|the','thesisiaishihsthean',left='{',right='}')"
   ]
  },
  {
   "cell_type": "markdown",
   "metadata": {},
   "source": [
    "# b"
   ]
  },
  {
   "cell_type": "code",
   "execution_count": 209,
   "metadata": {},
   "outputs": [
    {
     "name": "stdout",
     "output_type": "stream",
     "text": [
      "{2*3+8}\n"
     ]
    }
   ],
   "source": [
    "nltk.re_show('\\d+\\*\\d+\\+\\d+','2*3+8',left='{',right='}')"
   ]
  },
  {
   "cell_type": "markdown",
   "metadata": {},
   "source": [
    "# 21阅读维基百科有关Soundex条目，使用Python实现这个算法"
   ]
  },
  {
   "cell_type": "code",
   "execution_count": 211,
   "metadata": {
    "collapsed": true
   },
   "outputs": [],
   "source": [
    "import threading\n",
    "\n",
    "local=threading.local()\n",
    "\n",
    "class My_Soundex(object):\n",
    "\n",
    "    def __init__(self,string):\n",
    "        # 将用户输入的string进行首尾去空格处理并转换为大写\n",
    "        self.string = string.strip().upper()\n",
    "        # 第一个字母之后应该去掉的字母\n",
    "        self.__noise=['A','E','I','O','U','Y','H','W']\n",
    "        # 用来存储前一个字母的数字映射\n",
    "        self.preNum = None\n",
    "        # 数字映射列表\n",
    "        self.Map = [#A   B   C   D   E   F   G   H   I   J   K   L   M\n",
    "\t\t            '0','1','2','3','0','1','2','0','0','2','2','4','5',\n",
    "\t\t            #N   O   P   Q   R   S   T   U   V   W   X   Y   Z\n",
    "\t\t            '5','0','1','2','6','2','3','0','1','0','2','0','2']\n",
    "        # 存储结果\n",
    "        self.__result = ''\n",
    "\n",
    "    def Del_Noise(self):\n",
    "        '''\n",
    "        :param:self\n",
    "        :return: 去噪后单词\n",
    "        '''\n",
    "        # 去掉不是字母的噪声\n",
    "        for st in self.string:\n",
    "            # 如果不是字母\n",
    "            if not st.isalpha():\n",
    "                self.string = self.string.replace(st,'')\n",
    "        # 如果全部都是噪声，返回‘wrong’字符串\n",
    "        if self.string == '':\n",
    "            return 'Wrong'\n",
    "\n",
    "        # 取第一个字母后的所有字母，用于去除有在['A','E','I','O','U','Y','H','W']中的字母\n",
    "        stringBuffer = self.string[1:]\n",
    "        # 如果第一个字母后的所有字母为空\n",
    "        if not stringBuffer:\n",
    "            # 直接返回\n",
    "            return self.string\n",
    "        # 如果不为空\n",
    "        else:\n",
    "            # 去除有在['A','E','I','O','U','Y','H','W']中的字母\n",
    "            for noise in self.__noise:\n",
    "                if stringBuffer == '':\n",
    "                    break\n",
    "                stringBuffer = stringBuffer.replace(noise,'')\n",
    "            # 返回去除后的字符串\n",
    "            return self.string[0]+stringBuffer\n",
    "\n",
    "    def __call__(self, *args, **kwargs):\n",
    "        return self.Del_Noise()\n",
    "\n",
    "    @property\n",
    "    def result(self):\n",
    "        return self.__result\n",
    "\n",
    "    def Soundex(self,size=4):\n",
    "        '''\n",
    "        :param size: 默认为4\n",
    "        :return: 单词的Soundex映射结果\n",
    "        '''\n",
    "        # 第一步：去噪声和去除第一个字母后有在['A','E','I','O','U','Y','H','W']中的字母，赋给self.string\n",
    "        self.string=self.Del_Noise()\n",
    "\n",
    "        # 如果只有一个字母，补0后返回\n",
    "        if self.string.__len__() == 1:\n",
    "            return self.string+'0'*(size-1)\n",
    "\n",
    "        # 如果不止一个字母\n",
    "        # 将第一个字母加入结果\n",
    "        self.__result += self.string[0]\n",
    "\n",
    "        # 遍历第一个字母后的所有单词\n",
    "        for string in self.string[1:]:\n",
    "            # 取出数字映射\n",
    "            each = self.Map[ord(string) - ord('A')]\n",
    "            # 如果取出的数字映射不等于前一个字母的数字映射，即相邻的两个被替换为同一个数字的字母只保留一个\n",
    "            if each != self.preNum:\n",
    "                # 将数字映射加入结果\n",
    "                self.__result += each\n",
    "                self.preNum = each\n",
    "\n",
    "        # 如果得到的结果长度小于size，补0直到结果长度与size相同\n",
    "        if self.__result.__len__() < size:\n",
    "            for j in range(size-self.__result.__len__()):\n",
    "                self.__result += '0'\n",
    "        # 如果得到的结果长度大于或等于size，从左取出与size相同长度的result\n",
    "        else:\n",
    "            self.__result = self.__result[:size]\n",
    "        # 返回单词的Soundex映射结果\n",
    "        return self.resul"
   ]
  },
  {
   "cell_type": "markdown",
   "metadata": {
    "collapsed": true
   },
   "source": [
    "# test4"
   ]
  },
  {
   "cell_type": "markdown",
   "metadata": {
    "collapsed": true
   },
   "source": [
    "# 3"
   ]
  },
  {
   "cell_type": "code",
   "execution_count": 5,
   "metadata": {},
   "outputs": [
    {
     "ename": "AttributeError",
     "evalue": "module 'scipy' has no attribute '__version__'",
     "output_type": "error",
     "traceback": [
      "\u001b[1;31m---------------------------------------------------------------------------\u001b[0m",
      "\u001b[1;31mAttributeError\u001b[0m                            Traceback (most recent call last)",
      "\u001b[1;32m<ipython-input-5-d3aac4397800>\u001b[0m in \u001b[0;36m<module>\u001b[1;34m()\u001b[0m\n\u001b[1;32m----> 1\u001b[1;33m \u001b[1;32mimport\u001b[0m \u001b[0mnltk\u001b[0m\u001b[1;33m\u001b[0m\u001b[0m\n\u001b[0m\u001b[0;32m      2\u001b[0m \u001b[1;32mfrom\u001b[0m \u001b[0mscipy\u001b[0m \u001b[1;32mimport\u001b[0m \u001b[0mintegrate\u001b[0m\u001b[1;33m\u001b[0m\u001b[0m\n",
      "\u001b[1;32mD:\\Anaconda\\lib\\site-packages\\nltk\\__init__.py\u001b[0m in \u001b[0;36m<module>\u001b[1;34m()\u001b[0m\n\u001b[0;32m    126\u001b[0m \u001b[1;31m###########################################################\u001b[0m\u001b[1;33m\u001b[0m\u001b[1;33m\u001b[0m\u001b[0m\n\u001b[0;32m    127\u001b[0m \u001b[1;33m\u001b[0m\u001b[0m\n\u001b[1;32m--> 128\u001b[1;33m \u001b[1;32mfrom\u001b[0m \u001b[0mnltk\u001b[0m\u001b[1;33m.\u001b[0m\u001b[0mchunk\u001b[0m \u001b[1;32mimport\u001b[0m \u001b[1;33m*\u001b[0m\u001b[1;33m\u001b[0m\u001b[0m\n\u001b[0m\u001b[0;32m    129\u001b[0m \u001b[1;32mfrom\u001b[0m \u001b[0mnltk\u001b[0m\u001b[1;33m.\u001b[0m\u001b[0mclassify\u001b[0m \u001b[1;32mimport\u001b[0m \u001b[1;33m*\u001b[0m\u001b[1;33m\u001b[0m\u001b[0m\n\u001b[0;32m    130\u001b[0m \u001b[1;32mfrom\u001b[0m \u001b[0mnltk\u001b[0m\u001b[1;33m.\u001b[0m\u001b[0minference\u001b[0m \u001b[1;32mimport\u001b[0m \u001b[1;33m*\u001b[0m\u001b[1;33m\u001b[0m\u001b[0m\n",
      "\u001b[1;32mD:\\Anaconda\\lib\\site-packages\\nltk\\chunk\\__init__.py\u001b[0m in \u001b[0;36m<module>\u001b[1;34m()\u001b[0m\n\u001b[0;32m    155\u001b[0m \u001b[1;32mfrom\u001b[0m \u001b[0mnltk\u001b[0m\u001b[1;33m.\u001b[0m\u001b[0mdata\u001b[0m \u001b[1;32mimport\u001b[0m \u001b[0mload\u001b[0m\u001b[1;33m\u001b[0m\u001b[0m\n\u001b[0;32m    156\u001b[0m \u001b[1;33m\u001b[0m\u001b[0m\n\u001b[1;32m--> 157\u001b[1;33m \u001b[1;32mfrom\u001b[0m \u001b[0mnltk\u001b[0m\u001b[1;33m.\u001b[0m\u001b[0mchunk\u001b[0m\u001b[1;33m.\u001b[0m\u001b[0mapi\u001b[0m \u001b[1;32mimport\u001b[0m \u001b[0mChunkParserI\u001b[0m\u001b[1;33m\u001b[0m\u001b[0m\n\u001b[0m\u001b[0;32m    158\u001b[0m from nltk.chunk.util import (ChunkScore, accuracy, tagstr2tree, conllstr2tree,\n\u001b[0;32m    159\u001b[0m                              \u001b[0mconlltags2tree\u001b[0m\u001b[1;33m,\u001b[0m \u001b[0mtree2conlltags\u001b[0m\u001b[1;33m,\u001b[0m \u001b[0mtree2conllstr\u001b[0m\u001b[1;33m,\u001b[0m \u001b[0mtree2conlltags\u001b[0m\u001b[1;33m,\u001b[0m\u001b[1;33m\u001b[0m\u001b[0m\n",
      "\u001b[1;32mD:\\Anaconda\\lib\\site-packages\\nltk\\chunk\\api.py\u001b[0m in \u001b[0;36m<module>\u001b[1;34m()\u001b[0m\n\u001b[0;32m     11\u001b[0m \u001b[1;31m##//////////////////////////////////////////////////////\u001b[0m\u001b[1;33m\u001b[0m\u001b[1;33m\u001b[0m\u001b[0m\n\u001b[0;32m     12\u001b[0m \u001b[1;33m\u001b[0m\u001b[0m\n\u001b[1;32m---> 13\u001b[1;33m \u001b[1;32mfrom\u001b[0m \u001b[0mnltk\u001b[0m\u001b[1;33m.\u001b[0m\u001b[0mparse\u001b[0m \u001b[1;32mimport\u001b[0m \u001b[0mParserI\u001b[0m\u001b[1;33m\u001b[0m\u001b[0m\n\u001b[0m\u001b[0;32m     14\u001b[0m \u001b[1;33m\u001b[0m\u001b[0m\n\u001b[0;32m     15\u001b[0m \u001b[1;32mfrom\u001b[0m \u001b[0mnltk\u001b[0m\u001b[1;33m.\u001b[0m\u001b[0mchunk\u001b[0m\u001b[1;33m.\u001b[0m\u001b[0mutil\u001b[0m \u001b[1;32mimport\u001b[0m \u001b[0mChunkScore\u001b[0m\u001b[1;33m\u001b[0m\u001b[0m\n",
      "\u001b[1;32mD:\\Anaconda\\lib\\site-packages\\nltk\\parse\\__init__.py\u001b[0m in \u001b[0;36m<module>\u001b[1;34m()\u001b[0m\n\u001b[0;32m     77\u001b[0m \u001b[1;32mfrom\u001b[0m \u001b[0mnltk\u001b[0m\u001b[1;33m.\u001b[0m\u001b[0mparse\u001b[0m\u001b[1;33m.\u001b[0m\u001b[0mmalt\u001b[0m \u001b[1;32mimport\u001b[0m \u001b[0mMaltParser\u001b[0m\u001b[1;33m\u001b[0m\u001b[0m\n\u001b[0;32m     78\u001b[0m \u001b[1;32mfrom\u001b[0m \u001b[0mnltk\u001b[0m\u001b[1;33m.\u001b[0m\u001b[0mparse\u001b[0m\u001b[1;33m.\u001b[0m\u001b[0mevaluate\u001b[0m \u001b[1;32mimport\u001b[0m \u001b[0mDependencyEvaluator\u001b[0m\u001b[1;33m\u001b[0m\u001b[0m\n\u001b[1;32m---> 79\u001b[1;33m \u001b[1;32mfrom\u001b[0m \u001b[0mnltk\u001b[0m\u001b[1;33m.\u001b[0m\u001b[0mparse\u001b[0m\u001b[1;33m.\u001b[0m\u001b[0mtransitionparser\u001b[0m \u001b[1;32mimport\u001b[0m \u001b[0mTransitionParser\u001b[0m\u001b[1;33m\u001b[0m\u001b[0m\n\u001b[0m\u001b[0;32m     80\u001b[0m \u001b[1;32mfrom\u001b[0m \u001b[0mnltk\u001b[0m\u001b[1;33m.\u001b[0m\u001b[0mparse\u001b[0m\u001b[1;33m.\u001b[0m\u001b[0mbllip\u001b[0m \u001b[1;32mimport\u001b[0m \u001b[0mBllipParser\u001b[0m\u001b[1;33m\u001b[0m\u001b[0m\n\u001b[0;32m     81\u001b[0m \u001b[1;32mfrom\u001b[0m \u001b[0mnltk\u001b[0m\u001b[1;33m.\u001b[0m\u001b[0mparse\u001b[0m\u001b[1;33m.\u001b[0m\u001b[0mcorenlp\u001b[0m \u001b[1;32mimport\u001b[0m \u001b[0mCoreNLPParser\u001b[0m\u001b[1;33m,\u001b[0m \u001b[0mCoreNLPDependencyParser\u001b[0m\u001b[1;33m\u001b[0m\u001b[0m\n",
      "\u001b[1;32mD:\\Anaconda\\lib\\site-packages\\nltk\\parse\\transitionparser.py\u001b[0m in \u001b[0;36m<module>\u001b[1;34m()\u001b[0m\n\u001b[0;32m     19\u001b[0m     \u001b[1;32mfrom\u001b[0m \u001b[0mnumpy\u001b[0m \u001b[1;32mimport\u001b[0m \u001b[0marray\u001b[0m\u001b[1;33m\u001b[0m\u001b[0m\n\u001b[0;32m     20\u001b[0m     \u001b[1;32mfrom\u001b[0m \u001b[0mscipy\u001b[0m \u001b[1;32mimport\u001b[0m \u001b[0msparse\u001b[0m\u001b[1;33m\u001b[0m\u001b[0m\n\u001b[1;32m---> 21\u001b[1;33m     \u001b[1;32mfrom\u001b[0m \u001b[0msklearn\u001b[0m\u001b[1;33m.\u001b[0m\u001b[0mdatasets\u001b[0m \u001b[1;32mimport\u001b[0m \u001b[0mload_svmlight_file\u001b[0m\u001b[1;33m\u001b[0m\u001b[0m\n\u001b[0m\u001b[0;32m     22\u001b[0m     \u001b[1;32mfrom\u001b[0m \u001b[0msklearn\u001b[0m \u001b[1;32mimport\u001b[0m \u001b[0msvm\u001b[0m\u001b[1;33m\u001b[0m\u001b[0m\n\u001b[0;32m     23\u001b[0m \u001b[1;32mexcept\u001b[0m \u001b[0mImportError\u001b[0m\u001b[1;33m:\u001b[0m\u001b[1;33m\u001b[0m\u001b[0m\n",
      "\u001b[1;32mD:\\Anaconda\\lib\\site-packages\\sklearn\\__init__.py\u001b[0m in \u001b[0;36m<module>\u001b[1;34m()\u001b[0m\n\u001b[0;32m     55\u001b[0m \u001b[1;32melse\u001b[0m\u001b[1;33m:\u001b[0m\u001b[1;33m\u001b[0m\u001b[0m\n\u001b[0;32m     56\u001b[0m     \u001b[1;32mfrom\u001b[0m \u001b[1;33m.\u001b[0m \u001b[1;32mimport\u001b[0m \u001b[0m__check_build\u001b[0m\u001b[1;33m\u001b[0m\u001b[0m\n\u001b[1;32m---> 57\u001b[1;33m     \u001b[1;32mfrom\u001b[0m \u001b[1;33m.\u001b[0m\u001b[0mbase\u001b[0m \u001b[1;32mimport\u001b[0m \u001b[0mclone\u001b[0m\u001b[1;33m\u001b[0m\u001b[0m\n\u001b[0m\u001b[0;32m     58\u001b[0m     \u001b[0m__check_build\u001b[0m  \u001b[1;31m# avoid flakes unused variable error\u001b[0m\u001b[1;33m\u001b[0m\u001b[0m\n\u001b[0;32m     59\u001b[0m \u001b[1;33m\u001b[0m\u001b[0m\n",
      "\u001b[1;32mD:\\Anaconda\\lib\\site-packages\\sklearn\\base.py\u001b[0m in \u001b[0;36m<module>\u001b[1;34m()\u001b[0m\n\u001b[0;32m     10\u001b[0m \u001b[1;32mfrom\u001b[0m \u001b[0mscipy\u001b[0m \u001b[1;32mimport\u001b[0m \u001b[0msparse\u001b[0m\u001b[1;33m\u001b[0m\u001b[0m\n\u001b[0;32m     11\u001b[0m \u001b[1;32mfrom\u001b[0m \u001b[1;33m.\u001b[0m\u001b[0mexternals\u001b[0m \u001b[1;32mimport\u001b[0m \u001b[0msix\u001b[0m\u001b[1;33m\u001b[0m\u001b[0m\n\u001b[1;32m---> 12\u001b[1;33m \u001b[1;32mfrom\u001b[0m \u001b[1;33m.\u001b[0m\u001b[0mutils\u001b[0m\u001b[1;33m.\u001b[0m\u001b[0mfixes\u001b[0m \u001b[1;32mimport\u001b[0m \u001b[0msignature\u001b[0m\u001b[1;33m\u001b[0m\u001b[0m\n\u001b[0m\u001b[0;32m     13\u001b[0m \u001b[1;32mfrom\u001b[0m \u001b[1;33m.\u001b[0m\u001b[0mutils\u001b[0m\u001b[1;33m.\u001b[0m\u001b[0mdeprecation\u001b[0m \u001b[1;32mimport\u001b[0m \u001b[0mdeprecated\u001b[0m\u001b[1;33m\u001b[0m\u001b[0m\n\u001b[0;32m     14\u001b[0m \u001b[1;32mfrom\u001b[0m \u001b[1;33m.\u001b[0m\u001b[0mexceptions\u001b[0m \u001b[1;32mimport\u001b[0m \u001b[0mChangedBehaviorWarning\u001b[0m \u001b[1;32mas\u001b[0m \u001b[0m_ChangedBehaviorWarning\u001b[0m\u001b[1;33m\u001b[0m\u001b[0m\n",
      "\u001b[1;32mD:\\Anaconda\\lib\\site-packages\\sklearn\\utils\\__init__.py\u001b[0m in \u001b[0;36m<module>\u001b[1;34m()\u001b[0m\n\u001b[0;32m      9\u001b[0m \u001b[1;33m\u001b[0m\u001b[0m\n\u001b[0;32m     10\u001b[0m \u001b[1;32mfrom\u001b[0m \u001b[1;33m.\u001b[0m\u001b[0mmurmurhash\u001b[0m \u001b[1;32mimport\u001b[0m \u001b[0mmurmurhash3_32\u001b[0m\u001b[1;33m\u001b[0m\u001b[0m\n\u001b[1;32m---> 11\u001b[1;33m from .validation import (as_float_array,\n\u001b[0m\u001b[0;32m     12\u001b[0m                          \u001b[0massert_all_finite\u001b[0m\u001b[1;33m,\u001b[0m\u001b[1;33m\u001b[0m\u001b[0m\n\u001b[0;32m     13\u001b[0m                          \u001b[0mcheck_random_state\u001b[0m\u001b[1;33m,\u001b[0m \u001b[0mcolumn_or_1d\u001b[0m\u001b[1;33m,\u001b[0m \u001b[0mcheck_array\u001b[0m\u001b[1;33m,\u001b[0m\u001b[1;33m\u001b[0m\u001b[0m\n",
      "\u001b[1;32mD:\\Anaconda\\lib\\site-packages\\sklearn\\utils\\validation.py\u001b[0m in \u001b[0;36m<module>\u001b[1;34m()\u001b[0m\n\u001b[0;32m     16\u001b[0m \u001b[1;33m\u001b[0m\u001b[0m\n\u001b[0;32m     17\u001b[0m \u001b[1;32mfrom\u001b[0m \u001b[1;33m.\u001b[0m\u001b[1;33m.\u001b[0m\u001b[0mexternals\u001b[0m \u001b[1;32mimport\u001b[0m \u001b[0msix\u001b[0m\u001b[1;33m\u001b[0m\u001b[0m\n\u001b[1;32m---> 18\u001b[1;33m \u001b[1;32mfrom\u001b[0m \u001b[1;33m.\u001b[0m\u001b[1;33m.\u001b[0m\u001b[0mutils\u001b[0m\u001b[1;33m.\u001b[0m\u001b[0mfixes\u001b[0m \u001b[1;32mimport\u001b[0m \u001b[0msignature\u001b[0m\u001b[1;33m\u001b[0m\u001b[0m\n\u001b[0m\u001b[0;32m     19\u001b[0m \u001b[1;32mfrom\u001b[0m \u001b[1;33m.\u001b[0m\u001b[0mdeprecation\u001b[0m \u001b[1;32mimport\u001b[0m \u001b[0mdeprecated\u001b[0m\u001b[1;33m\u001b[0m\u001b[0m\n\u001b[0;32m     20\u001b[0m \u001b[1;32mfrom\u001b[0m \u001b[1;33m.\u001b[0m\u001b[1;33m.\u001b[0m\u001b[0mexceptions\u001b[0m \u001b[1;32mimport\u001b[0m \u001b[0mDataConversionWarning\u001b[0m \u001b[1;32mas\u001b[0m \u001b[0m_DataConversionWarning\u001b[0m\u001b[1;33m\u001b[0m\u001b[0m\n",
      "\u001b[1;32mD:\\Anaconda\\lib\\site-packages\\sklearn\\utils\\fixes.py\u001b[0m in \u001b[0;36m<module>\u001b[1;34m()\u001b[0m\n\u001b[0;32m     39\u001b[0m \u001b[1;33m\u001b[0m\u001b[0m\n\u001b[0;32m     40\u001b[0m \u001b[0mnp_version\u001b[0m \u001b[1;33m=\u001b[0m \u001b[0m_parse_version\u001b[0m\u001b[1;33m(\u001b[0m\u001b[0mnp\u001b[0m\u001b[1;33m.\u001b[0m\u001b[0m__version__\u001b[0m\u001b[1;33m)\u001b[0m\u001b[1;33m\u001b[0m\u001b[0m\n\u001b[1;32m---> 41\u001b[1;33m \u001b[0msp_version\u001b[0m \u001b[1;33m=\u001b[0m \u001b[0m_parse_version\u001b[0m\u001b[1;33m(\u001b[0m\u001b[0mscipy\u001b[0m\u001b[1;33m.\u001b[0m\u001b[0m__version__\u001b[0m\u001b[1;33m)\u001b[0m\u001b[1;33m\u001b[0m\u001b[0m\n\u001b[0m\u001b[0;32m     42\u001b[0m \u001b[1;33m\u001b[0m\u001b[0m\n\u001b[0;32m     43\u001b[0m \u001b[1;33m\u001b[0m\u001b[0m\n",
      "\u001b[1;31mAttributeError\u001b[0m: module 'scipy' has no attribute '__version__'"
     ]
    }
   ],
   "source": [
    "import nltk\n",
    "from scipy import integrate"
   ]
  },
  {
   "cell_type": "code",
   "execution_count": null,
   "metadata": {
    "collapsed": true
   },
   "outputs": [],
   "source": []
  }
 ],
 "metadata": {
  "kernelspec": {
   "display_name": "Python 3",
   "language": "python",
   "name": "python3"
  },
  "language_info": {
   "codemirror_mode": {
    "name": "ipython",
    "version": 3
   },
   "file_extension": ".py",
   "mimetype": "text/x-python",
   "name": "python",
   "nbconvert_exporter": "python",
   "pygments_lexer": "ipython3",
   "version": "3.6.1"
  }
 },
 "nbformat": 4,
 "nbformat_minor": 2
}
